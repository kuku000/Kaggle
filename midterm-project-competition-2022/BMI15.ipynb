{
 "cells": [
  {
   "cell_type": "code",
   "execution_count": 1,
   "id": "a3fded7a-4d7a-4f97-a5ec-68335e4f6b1b",
   "metadata": {},
   "outputs": [],
   "source": [
    "import pandas as pd\n",
    "import numpy as np\n",
    "import matplotlib.pyplot as plt"
   ]
  },
  {
   "cell_type": "code",
   "execution_count": 2,
   "id": "99a53bec-f1d7-4c1e-a550-d23cc0a2e183",
   "metadata": {},
   "outputs": [],
   "source": [
    "train = pd.read_csv(\"train.csv\")\n",
    "test = pd.read_csv(\"test.csv\")\n",
    "sS = pd.read_csv(\"sampleSubmission.csv\")\n",
    "train['推薦類型'].replace(['肌力',\"柔軟度\",\"心肺\",\"肌耐力\",\"error\",\"錯誤\",\"無此類別\"],[0,1,2,3,np.nan,np.nan,np.nan] , inplace = True)"
   ]
  },
  {
   "cell_type": "code",
   "execution_count": 3,
   "id": "1660c61a-20f3-4b5d-97ce-568fd63ca784",
   "metadata": {},
   "outputs": [],
   "source": [
    "train = train.dropna(axis=0, how='any', thresh=None, subset=None, inplace=False)\n",
    "train['推薦類型'] = train['推薦類型'].astype('int64')"
   ]
  },
  {
   "cell_type": "code",
   "execution_count": 4,
   "id": "f7af8229-91ee-4e25-9ed1-c86914f298fa",
   "metadata": {},
   "outputs": [
    {
     "data": {
      "text/html": [
       "<div>\n",
       "<style scoped>\n",
       "    .dataframe tbody tr th:only-of-type {\n",
       "        vertical-align: middle;\n",
       "    }\n",
       "\n",
       "    .dataframe tbody tr th {\n",
       "        vertical-align: top;\n",
       "    }\n",
       "\n",
       "    .dataframe thead th {\n",
       "        text-align: right;\n",
       "    }\n",
       "</style>\n",
       "<table border=\"1\" class=\"dataframe\">\n",
       "  <thead>\n",
       "    <tr style=\"text-align: right;\">\n",
       "      <th></th>\n",
       "      <th>性別</th>\n",
       "      <th>年齡</th>\n",
       "      <th>BMI</th>\n",
       "      <th>拳擊</th>\n",
       "      <th>器材</th>\n",
       "      <th>有氧</th>\n",
       "      <th>舞蹈</th>\n",
       "      <th>高強度間歇</th>\n",
       "      <th>瑜伽</th>\n",
       "      <th>肌力訓練</th>\n",
       "      <th>燃脂</th>\n",
       "      <th>減脂瘦身</th>\n",
       "      <th>增加肌肉</th>\n",
       "      <th>增強體魄</th>\n",
       "      <th>舒緩壓力</th>\n",
       "      <th>推薦類型</th>\n",
       "    </tr>\n",
       "  </thead>\n",
       "  <tbody>\n",
       "    <tr>\n",
       "      <th>0</th>\n",
       "      <td>1.0</td>\n",
       "      <td>957.0</td>\n",
       "      <td>0.000000</td>\n",
       "      <td>1.0</td>\n",
       "      <td>1.0</td>\n",
       "      <td>0.0</td>\n",
       "      <td>-2.0</td>\n",
       "      <td>0.0</td>\n",
       "      <td>1.0</td>\n",
       "      <td>1.0</td>\n",
       "      <td>1.0</td>\n",
       "      <td>0.0</td>\n",
       "      <td>-3.0</td>\n",
       "      <td>0.0</td>\n",
       "      <td>-3.0</td>\n",
       "      <td>0</td>\n",
       "    </tr>\n",
       "    <tr>\n",
       "      <th>3</th>\n",
       "      <td>1.0</td>\n",
       "      <td>45.0</td>\n",
       "      <td>-28.543927</td>\n",
       "      <td>0.0</td>\n",
       "      <td>1.0</td>\n",
       "      <td>1.0</td>\n",
       "      <td>1.0</td>\n",
       "      <td>0.0</td>\n",
       "      <td>1.0</td>\n",
       "      <td>1.0</td>\n",
       "      <td>0.0</td>\n",
       "      <td>0.0</td>\n",
       "      <td>1.0</td>\n",
       "      <td>1.0</td>\n",
       "      <td>1.0</td>\n",
       "      <td>3</td>\n",
       "    </tr>\n",
       "    <tr>\n",
       "      <th>6</th>\n",
       "      <td>0.0</td>\n",
       "      <td>1134.0</td>\n",
       "      <td>0.000000</td>\n",
       "      <td>0.0</td>\n",
       "      <td>1.0</td>\n",
       "      <td>1.0</td>\n",
       "      <td>0.0</td>\n",
       "      <td>1.0</td>\n",
       "      <td>-4.0</td>\n",
       "      <td>0.0</td>\n",
       "      <td>1.0</td>\n",
       "      <td>0.0</td>\n",
       "      <td>1.0</td>\n",
       "      <td>1.0</td>\n",
       "      <td>-4.0</td>\n",
       "      <td>2</td>\n",
       "    </tr>\n",
       "    <tr>\n",
       "      <th>9</th>\n",
       "      <td>1.0</td>\n",
       "      <td>46.0</td>\n",
       "      <td>-20.958439</td>\n",
       "      <td>0.0</td>\n",
       "      <td>1.0</td>\n",
       "      <td>1.0</td>\n",
       "      <td>1.0</td>\n",
       "      <td>0.0</td>\n",
       "      <td>1.0</td>\n",
       "      <td>1.0</td>\n",
       "      <td>0.0</td>\n",
       "      <td>0.0</td>\n",
       "      <td>1.0</td>\n",
       "      <td>1.0</td>\n",
       "      <td>1.0</td>\n",
       "      <td>1</td>\n",
       "    </tr>\n",
       "    <tr>\n",
       "      <th>11</th>\n",
       "      <td>0.0</td>\n",
       "      <td>1644.0</td>\n",
       "      <td>0.000000</td>\n",
       "      <td>0.0</td>\n",
       "      <td>0.0</td>\n",
       "      <td>1.0</td>\n",
       "      <td>0.0</td>\n",
       "      <td>1.0</td>\n",
       "      <td>1.0</td>\n",
       "      <td>-2.0</td>\n",
       "      <td>1.0</td>\n",
       "      <td>0.0</td>\n",
       "      <td>0.0</td>\n",
       "      <td>1.0</td>\n",
       "      <td>1.0</td>\n",
       "      <td>1</td>\n",
       "    </tr>\n",
       "    <tr>\n",
       "      <th>...</th>\n",
       "      <td>...</td>\n",
       "      <td>...</td>\n",
       "      <td>...</td>\n",
       "      <td>...</td>\n",
       "      <td>...</td>\n",
       "      <td>...</td>\n",
       "      <td>...</td>\n",
       "      <td>...</td>\n",
       "      <td>...</td>\n",
       "      <td>...</td>\n",
       "      <td>...</td>\n",
       "      <td>...</td>\n",
       "      <td>...</td>\n",
       "      <td>...</td>\n",
       "      <td>...</td>\n",
       "      <td>...</td>\n",
       "    </tr>\n",
       "    <tr>\n",
       "      <th>26417</th>\n",
       "      <td>1.0</td>\n",
       "      <td>47.0</td>\n",
       "      <td>-21.986735</td>\n",
       "      <td>0.0</td>\n",
       "      <td>1.0</td>\n",
       "      <td>1.0</td>\n",
       "      <td>1.0</td>\n",
       "      <td>1.0</td>\n",
       "      <td>1.0</td>\n",
       "      <td>1.0</td>\n",
       "      <td>1.0</td>\n",
       "      <td>0.0</td>\n",
       "      <td>1.0</td>\n",
       "      <td>1.0</td>\n",
       "      <td>1.0</td>\n",
       "      <td>1</td>\n",
       "    </tr>\n",
       "    <tr>\n",
       "      <th>26420</th>\n",
       "      <td>0.0</td>\n",
       "      <td>2149.0</td>\n",
       "      <td>0.000000</td>\n",
       "      <td>-3.0</td>\n",
       "      <td>-2.0</td>\n",
       "      <td>1.0</td>\n",
       "      <td>-3.0</td>\n",
       "      <td>-3.0</td>\n",
       "      <td>1.0</td>\n",
       "      <td>0.0</td>\n",
       "      <td>-5.0</td>\n",
       "      <td>-2.0</td>\n",
       "      <td>0.0</td>\n",
       "      <td>-5.0</td>\n",
       "      <td>1.0</td>\n",
       "      <td>1</td>\n",
       "    </tr>\n",
       "    <tr>\n",
       "      <th>26421</th>\n",
       "      <td>1.0</td>\n",
       "      <td>26.0</td>\n",
       "      <td>-22.948165</td>\n",
       "      <td>1.0</td>\n",
       "      <td>1.0</td>\n",
       "      <td>0.0</td>\n",
       "      <td>1.0</td>\n",
       "      <td>0.0</td>\n",
       "      <td>1.0</td>\n",
       "      <td>1.0</td>\n",
       "      <td>1.0</td>\n",
       "      <td>0.0</td>\n",
       "      <td>1.0</td>\n",
       "      <td>0.0</td>\n",
       "      <td>1.0</td>\n",
       "      <td>0</td>\n",
       "    </tr>\n",
       "    <tr>\n",
       "      <th>26423</th>\n",
       "      <td>0.0</td>\n",
       "      <td>1848.0</td>\n",
       "      <td>0.000000</td>\n",
       "      <td>0.0</td>\n",
       "      <td>0.0</td>\n",
       "      <td>0.0</td>\n",
       "      <td>0.0</td>\n",
       "      <td>-5.0</td>\n",
       "      <td>0.0</td>\n",
       "      <td>0.0</td>\n",
       "      <td>0.0</td>\n",
       "      <td>1.0</td>\n",
       "      <td>0.0</td>\n",
       "      <td>0.0</td>\n",
       "      <td>-5.0</td>\n",
       "      <td>2</td>\n",
       "    </tr>\n",
       "    <tr>\n",
       "      <th>26424</th>\n",
       "      <td>0.0</td>\n",
       "      <td>31.0</td>\n",
       "      <td>-22.367858</td>\n",
       "      <td>0.0</td>\n",
       "      <td>1.0</td>\n",
       "      <td>1.0</td>\n",
       "      <td>1.0</td>\n",
       "      <td>1.0</td>\n",
       "      <td>1.0</td>\n",
       "      <td>0.0</td>\n",
       "      <td>1.0</td>\n",
       "      <td>0.0</td>\n",
       "      <td>0.0</td>\n",
       "      <td>1.0</td>\n",
       "      <td>1.0</td>\n",
       "      <td>2</td>\n",
       "    </tr>\n",
       "  </tbody>\n",
       "</table>\n",
       "<p>12689 rows × 16 columns</p>\n",
       "</div>"
      ],
      "text/plain": [
       "        性別      年齡        BMI   拳擊   器材   有氧   舞蹈  高強度間歇   瑜伽  肌力訓練   燃脂  \\\n",
       "0      1.0   957.0   0.000000  1.0  1.0  0.0 -2.0    0.0  1.0   1.0  1.0   \n",
       "3      1.0    45.0 -28.543927  0.0  1.0  1.0  1.0    0.0  1.0   1.0  0.0   \n",
       "6      0.0  1134.0   0.000000  0.0  1.0  1.0  0.0    1.0 -4.0   0.0  1.0   \n",
       "9      1.0    46.0 -20.958439  0.0  1.0  1.0  1.0    0.0  1.0   1.0  0.0   \n",
       "11     0.0  1644.0   0.000000  0.0  0.0  1.0  0.0    1.0  1.0  -2.0  1.0   \n",
       "...    ...     ...        ...  ...  ...  ...  ...    ...  ...   ...  ...   \n",
       "26417  1.0    47.0 -21.986735  0.0  1.0  1.0  1.0    1.0  1.0   1.0  1.0   \n",
       "26420  0.0  2149.0   0.000000 -3.0 -2.0  1.0 -3.0   -3.0  1.0   0.0 -5.0   \n",
       "26421  1.0    26.0 -22.948165  1.0  1.0  0.0  1.0    0.0  1.0   1.0  1.0   \n",
       "26423  0.0  1848.0   0.000000  0.0  0.0  0.0  0.0   -5.0  0.0   0.0  0.0   \n",
       "26424  0.0    31.0 -22.367858  0.0  1.0  1.0  1.0    1.0  1.0   0.0  1.0   \n",
       "\n",
       "       減脂瘦身  增加肌肉  增強體魄  舒緩壓力  推薦類型  \n",
       "0       0.0  -3.0   0.0  -3.0     0  \n",
       "3       0.0   1.0   1.0   1.0     3  \n",
       "6       0.0   1.0   1.0  -4.0     2  \n",
       "9       0.0   1.0   1.0   1.0     1  \n",
       "11      0.0   0.0   1.0   1.0     1  \n",
       "...     ...   ...   ...   ...   ...  \n",
       "26417   0.0   1.0   1.0   1.0     1  \n",
       "26420  -2.0   0.0  -5.0   1.0     1  \n",
       "26421   0.0   1.0   0.0   1.0     0  \n",
       "26423   1.0   0.0   0.0  -5.0     2  \n",
       "26424   0.0   0.0   1.0   1.0     2  \n",
       "\n",
       "[12689 rows x 16 columns]"
      ]
     },
     "execution_count": 4,
     "metadata": {},
     "output_type": "execute_result"
    }
   ],
   "source": [
    "BMI = 0\n",
    "out_BMI = train.query(\"BMI <= @BMI\")\n",
    "out_BMI"
   ]
  },
  {
   "cell_type": "code",
   "execution_count": 5,
   "id": "a19a7b73-fda5-45ac-8d78-4af32d24bf8b",
   "metadata": {},
   "outputs": [],
   "source": [
    "out_BMI_list =out_BMI.index.tolist()\n",
    "train = train.drop(out_BMI_list)\n",
    "#train[\"BMI\"].hist()"
   ]
  },
  {
   "cell_type": "code",
   "execution_count": 7,
   "id": "3028e93f-12a7-479e-9303-f1679e3ef581",
   "metadata": {},
   "outputs": [
    {
     "data": {
      "text/plain": [
       "22.491349    919\n",
       "19.879103    345\n",
       "23.875115    283\n",
       "16.358025    212\n",
       "18.818924    209\n",
       "            ... \n",
       "27.273667      1\n",
       "28.112887      1\n",
       "21.465976      1\n",
       "23.225852      1\n",
       "14.634752      1\n",
       "Name: BMI, Length: 5211, dtype: int64"
      ]
     },
     "execution_count": 7,
     "metadata": {},
     "output_type": "execute_result"
    }
   ],
   "source": [
    "train[\"BMI\"].value_counts()"
   ]
  },
  {
   "cell_type": "code",
   "execution_count": 8,
   "id": "7bc6a288-bc87-452f-a9b4-db989779f948",
   "metadata": {},
   "outputs": [
    {
     "data": {
      "text/plain": [
       "<AxesSubplot:>"
      ]
     },
     "execution_count": 8,
     "metadata": {},
     "output_type": "execute_result"
    },
    {
     "data": {
      "image/png": "[encoded data removed]",
      "text/plain": [
       "<Figure size 432x288 with 1 Axes>"
      ]
     },
     "metadata": {
      "needs_background": "light"
     },
     "output_type": "display_data"
    }
   ],
   "source": [
    "out_BMI[\"BMI\"].hist()"
   ]
  },
  {
   "cell_type": "code",
   "execution_count": 9,
   "id": "b3dca4ca-6caf-44ef-a2a7-7569c65792a3",
   "metadata": {},
   "outputs": [
    {
     "data": {
      "text/html": [
       "<div>\n",
       "<style scoped>\n",
       "    .dataframe tbody tr th:only-of-type {\n",
       "        vertical-align: middle;\n",
       "    }\n",
       "\n",
       "    .dataframe tbody tr th {\n",
       "        vertical-align: top;\n",
       "    }\n",
       "\n",
       "    .dataframe thead th {\n",
       "        text-align: right;\n",
       "    }\n",
       "</style>\n",
       "<table border=\"1\" class=\"dataframe\">\n",
       "  <thead>\n",
       "    <tr style=\"text-align: right;\">\n",
       "      <th></th>\n",
       "      <th>性別</th>\n",
       "      <th>年齡</th>\n",
       "      <th>BMI</th>\n",
       "      <th>拳擊</th>\n",
       "      <th>器材</th>\n",
       "      <th>有氧</th>\n",
       "      <th>舞蹈</th>\n",
       "      <th>高強度間歇</th>\n",
       "      <th>瑜伽</th>\n",
       "      <th>肌力訓練</th>\n",
       "      <th>燃脂</th>\n",
       "      <th>減脂瘦身</th>\n",
       "      <th>增加肌肉</th>\n",
       "      <th>增強體魄</th>\n",
       "      <th>舒緩壓力</th>\n",
       "      <th>推薦類型</th>\n",
       "    </tr>\n",
       "  </thead>\n",
       "  <tbody>\n",
       "    <tr>\n",
       "      <th>29</th>\n",
       "      <td>0.0</td>\n",
       "      <td>674.0</td>\n",
       "      <td>13.313556</td>\n",
       "      <td>0.0</td>\n",
       "      <td>0.0</td>\n",
       "      <td>0.0</td>\n",
       "      <td>1.0</td>\n",
       "      <td>1.0</td>\n",
       "      <td>1.0</td>\n",
       "      <td>1.0</td>\n",
       "      <td>1.0</td>\n",
       "      <td>0.0</td>\n",
       "      <td>0.0</td>\n",
       "      <td>1.0</td>\n",
       "      <td>0.0</td>\n",
       "      <td>2</td>\n",
       "    </tr>\n",
       "    <tr>\n",
       "      <th>31</th>\n",
       "      <td>0.0</td>\n",
       "      <td>2127.0</td>\n",
       "      <td>11.237851</td>\n",
       "      <td>0.0</td>\n",
       "      <td>1.0</td>\n",
       "      <td>0.0</td>\n",
       "      <td>0.0</td>\n",
       "      <td>1.0</td>\n",
       "      <td>1.0</td>\n",
       "      <td>1.0</td>\n",
       "      <td>1.0</td>\n",
       "      <td>0.0</td>\n",
       "      <td>1.0</td>\n",
       "      <td>1.0</td>\n",
       "      <td>0.0</td>\n",
       "      <td>2</td>\n",
       "    </tr>\n",
       "    <tr>\n",
       "      <th>50</th>\n",
       "      <td>1.0</td>\n",
       "      <td>2748.0</td>\n",
       "      <td>14.532508</td>\n",
       "      <td>0.0</td>\n",
       "      <td>1.0</td>\n",
       "      <td>0.0</td>\n",
       "      <td>0.0</td>\n",
       "      <td>0.0</td>\n",
       "      <td>0.0</td>\n",
       "      <td>0.0</td>\n",
       "      <td>0.0</td>\n",
       "      <td>0.0</td>\n",
       "      <td>0.0</td>\n",
       "      <td>1.0</td>\n",
       "      <td>1.0</td>\n",
       "      <td>3</td>\n",
       "    </tr>\n",
       "    <tr>\n",
       "      <th>72</th>\n",
       "      <td>1.0</td>\n",
       "      <td>3408.0</td>\n",
       "      <td>13.679369</td>\n",
       "      <td>1.0</td>\n",
       "      <td>0.0</td>\n",
       "      <td>1.0</td>\n",
       "      <td>1.0</td>\n",
       "      <td>0.0</td>\n",
       "      <td>1.0</td>\n",
       "      <td>1.0</td>\n",
       "      <td>1.0</td>\n",
       "      <td>0.0</td>\n",
       "      <td>1.0</td>\n",
       "      <td>1.0</td>\n",
       "      <td>1.0</td>\n",
       "      <td>1</td>\n",
       "    </tr>\n",
       "    <tr>\n",
       "      <th>212</th>\n",
       "      <td>0.0</td>\n",
       "      <td>22.0</td>\n",
       "      <td>11.490657</td>\n",
       "      <td>0.0</td>\n",
       "      <td>1.0</td>\n",
       "      <td>1.0</td>\n",
       "      <td>0.0</td>\n",
       "      <td>1.0</td>\n",
       "      <td>1.0</td>\n",
       "      <td>1.0</td>\n",
       "      <td>1.0</td>\n",
       "      <td>0.0</td>\n",
       "      <td>1.0</td>\n",
       "      <td>1.0</td>\n",
       "      <td>0.0</td>\n",
       "      <td>2</td>\n",
       "    </tr>\n",
       "    <tr>\n",
       "      <th>...</th>\n",
       "      <td>...</td>\n",
       "      <td>...</td>\n",
       "      <td>...</td>\n",
       "      <td>...</td>\n",
       "      <td>...</td>\n",
       "      <td>...</td>\n",
       "      <td>...</td>\n",
       "      <td>...</td>\n",
       "      <td>...</td>\n",
       "      <td>...</td>\n",
       "      <td>...</td>\n",
       "      <td>...</td>\n",
       "      <td>...</td>\n",
       "      <td>...</td>\n",
       "      <td>...</td>\n",
       "      <td>...</td>\n",
       "    </tr>\n",
       "    <tr>\n",
       "      <th>26228</th>\n",
       "      <td>0.0</td>\n",
       "      <td>32.0</td>\n",
       "      <td>13.527187</td>\n",
       "      <td>0.0</td>\n",
       "      <td>0.0</td>\n",
       "      <td>0.0</td>\n",
       "      <td>1.0</td>\n",
       "      <td>0.0</td>\n",
       "      <td>1.0</td>\n",
       "      <td>0.0</td>\n",
       "      <td>1.0</td>\n",
       "      <td>1.0</td>\n",
       "      <td>0.0</td>\n",
       "      <td>0.0</td>\n",
       "      <td>1.0</td>\n",
       "      <td>0</td>\n",
       "    </tr>\n",
       "    <tr>\n",
       "      <th>26255</th>\n",
       "      <td>0.0</td>\n",
       "      <td>32.0</td>\n",
       "      <td>14.937361</td>\n",
       "      <td>0.0</td>\n",
       "      <td>0.0</td>\n",
       "      <td>0.0</td>\n",
       "      <td>1.0</td>\n",
       "      <td>0.0</td>\n",
       "      <td>0.0</td>\n",
       "      <td>0.0</td>\n",
       "      <td>1.0</td>\n",
       "      <td>1.0</td>\n",
       "      <td>0.0</td>\n",
       "      <td>0.0</td>\n",
       "      <td>1.0</td>\n",
       "      <td>2</td>\n",
       "    </tr>\n",
       "    <tr>\n",
       "      <th>26328</th>\n",
       "      <td>0.0</td>\n",
       "      <td>2445.0</td>\n",
       "      <td>13.845212</td>\n",
       "      <td>0.0</td>\n",
       "      <td>1.0</td>\n",
       "      <td>0.0</td>\n",
       "      <td>0.0</td>\n",
       "      <td>1.0</td>\n",
       "      <td>1.0</td>\n",
       "      <td>1.0</td>\n",
       "      <td>1.0</td>\n",
       "      <td>0.0</td>\n",
       "      <td>1.0</td>\n",
       "      <td>1.0</td>\n",
       "      <td>0.0</td>\n",
       "      <td>0</td>\n",
       "    </tr>\n",
       "    <tr>\n",
       "      <th>26329</th>\n",
       "      <td>0.0</td>\n",
       "      <td>1412.0</td>\n",
       "      <td>11.215055</td>\n",
       "      <td>0.0</td>\n",
       "      <td>0.0</td>\n",
       "      <td>1.0</td>\n",
       "      <td>1.0</td>\n",
       "      <td>1.0</td>\n",
       "      <td>1.0</td>\n",
       "      <td>0.0</td>\n",
       "      <td>1.0</td>\n",
       "      <td>1.0</td>\n",
       "      <td>0.0</td>\n",
       "      <td>0.0</td>\n",
       "      <td>1.0</td>\n",
       "      <td>2</td>\n",
       "    </tr>\n",
       "    <tr>\n",
       "      <th>26414</th>\n",
       "      <td>1.0</td>\n",
       "      <td>26.0</td>\n",
       "      <td>14.634752</td>\n",
       "      <td>1.0</td>\n",
       "      <td>0.0</td>\n",
       "      <td>0.0</td>\n",
       "      <td>0.0</td>\n",
       "      <td>0.0</td>\n",
       "      <td>0.0</td>\n",
       "      <td>0.0</td>\n",
       "      <td>0.0</td>\n",
       "      <td>0.0</td>\n",
       "      <td>0.0</td>\n",
       "      <td>0.0</td>\n",
       "      <td>1.0</td>\n",
       "      <td>2</td>\n",
       "    </tr>\n",
       "  </tbody>\n",
       "</table>\n",
       "<p>449 rows × 16 columns</p>\n",
       "</div>"
      ],
      "text/plain": [
       "        性別      年齡        BMI   拳擊   器材   有氧   舞蹈  高強度間歇   瑜伽  肌力訓練   燃脂  \\\n",
       "29     0.0   674.0  13.313556  0.0  0.0  0.0  1.0    1.0  1.0   1.0  1.0   \n",
       "31     0.0  2127.0  11.237851  0.0  1.0  0.0  0.0    1.0  1.0   1.0  1.0   \n",
       "50     1.0  2748.0  14.532508  0.0  1.0  0.0  0.0    0.0  0.0   0.0  0.0   \n",
       "72     1.0  3408.0  13.679369  1.0  0.0  1.0  1.0    0.0  1.0   1.0  1.0   \n",
       "212    0.0    22.0  11.490657  0.0  1.0  1.0  0.0    1.0  1.0   1.0  1.0   \n",
       "...    ...     ...        ...  ...  ...  ...  ...    ...  ...   ...  ...   \n",
       "26228  0.0    32.0  13.527187  0.0  0.0  0.0  1.0    0.0  1.0   0.0  1.0   \n",
       "26255  0.0    32.0  14.937361  0.0  0.0  0.0  1.0    0.0  0.0   0.0  1.0   \n",
       "26328  0.0  2445.0  13.845212  0.0  1.0  0.0  0.0    1.0  1.0   1.0  1.0   \n",
       "26329  0.0  1412.0  11.215055  0.0  0.0  1.0  1.0    1.0  1.0   0.0  1.0   \n",
       "26414  1.0    26.0  14.634752  1.0  0.0  0.0  0.0    0.0  0.0   0.0  0.0   \n",
       "\n",
       "       減脂瘦身  增加肌肉  增強體魄  舒緩壓力  推薦類型  \n",
       "29      0.0   0.0   1.0   0.0     2  \n",
       "31      0.0   1.0   1.0   0.0     2  \n",
       "50      0.0   0.0   1.0   1.0     3  \n",
       "72      0.0   1.0   1.0   1.0     1  \n",
       "212     0.0   1.0   1.0   0.0     2  \n",
       "...     ...   ...   ...   ...   ...  \n",
       "26228   1.0   0.0   0.0   1.0     0  \n",
       "26255   1.0   0.0   0.0   1.0     2  \n",
       "26328   0.0   1.0   1.0   0.0     0  \n",
       "26329   1.0   0.0   0.0   1.0     2  \n",
       "26414   0.0   0.0   0.0   1.0     2  \n",
       "\n",
       "[449 rows x 16 columns]"
      ]
     },
     "execution_count": 9,
     "metadata": {},
     "output_type": "execute_result"
    }
   ],
   "source": [
    "BMI = 15\n",
    "out_BMI = train.query(\"BMI < @BMI\")\n",
    "out_BMI"
   ]
  },
  {
   "cell_type": "code",
   "execution_count": 10,
   "id": "8cd99508-61ac-4c3e-b12f-fd1770b280bc",
   "metadata": {},
   "outputs": [
    {
     "data": {
      "text/plain": [
       "<AxesSubplot:>"
      ]
     },
     "execution_count": 10,
     "metadata": {},
     "output_type": "execute_result"
    },
    {
     "data": {
      "image/png": "[encoded data removed]",
      "text/plain": [
       "<Figure size 432x288 with 1 Axes>"
      ]
     },
     "metadata": {
      "needs_background": "light"
     },
     "output_type": "display_data"
    }
   ],
   "source": [
    "out_BMI_list =out_BMI.index.tolist()\n",
    "train = train.drop(out_BMI_list)\n",
    "train[\"BMI\"].hist()"
   ]
  },
  {
   "cell_type": "code",
   "execution_count": 11,
   "id": "4bb52fdf-d6ba-45a3-8541-b4bb08140c32",
   "metadata": {},
   "outputs": [
    {
     "data": {
      "text/plain": [
       "<AxesSubplot:>"
      ]
     },
     "execution_count": 11,
     "metadata": {},
     "output_type": "execute_result"
    },
    {
     "data": {
      "image/png": "[encoded data removed]",
      "text/plain": [
       "<Figure size 432x288 with 1 Axes>"
      ]
     },
     "metadata": {
      "needs_background": "light"
     },
     "output_type": "display_data"
    }
   ],
   "source": [
    "age = 70\n",
    "out_age = train.query(\"年齡 > @age\")\n",
    "out_age_list =out_age.index.tolist()\n",
    "train = train.drop(out_age_list)\n",
    "train[\"年齡\"].hist()"
   ]
  },
  {
   "cell_type": "code",
   "execution_count": 12,
   "id": "8338d62e-e5a9-4927-9c13-6089397a3d78",
   "metadata": {},
   "outputs": [
    {
     "data": {
      "text/plain": [
       "[-3.0,\n",
       " -5.0,\n",
       " -3.0,\n",
       " -4.0,\n",
       " -2.0,\n",
       " -3.0,\n",
       " -3.0,\n",
       " -3.0,\n",
       " -4.0,\n",
       " -4.0,\n",
       " -5.0,\n",
       " -2.0,\n",
       " -5.0,\n",
       " -4.0,\n",
       " -5.0,\n",
       " -4.0]"
      ]
     },
     "execution_count": 12,
     "metadata": {},
     "output_type": "execute_result"
    }
   ],
   "source": [
    "y = 1\n",
    "n = 0\n",
    "out = train.query(\"拳擊 > @y \")\n",
    "outlist =out['拳擊'].tolist()\n",
    "\n",
    "out = train.query(\"拳擊 < @n \")\n",
    "outlist =out['拳擊'].tolist()\n",
    "outlist"
   ]
  },
  {
   "cell_type": "code",
   "execution_count": 13,
   "id": "8baa26fb-a3f3-4631-9816-40a1a27749cc",
   "metadata": {},
   "outputs": [
    {
     "data": {
      "text/plain": [
       "\"train['拳擊'].replace([3,2],[0,0] , inplace = True)\\ntrain['拳擊'].replace([-3,-2,-4,-5],[0,0,0,0] , inplace = True)\\n\\ntrain['器材'].replace([3,2],[0,0] , inplace = True)\\ntrain['器材'].replace([-3,-2,-4,-5],[0,0,0,0] , inplace = True)\\n\\ntrain['有氧'].replace([3,2],[0,0] , inplace = True)\\ntrain['有氧'].replace([-3,-2,-4,-5],[0,0,0,0] , inplace = True)\\n\\ntrain['舞蹈'].replace([3,2],[0,0] , inplace = True)\\ntrain['舞蹈'].replace([-3,-2,-4,-5],[0,0,0,0] , inplace = True)\\n\\ntrain['高強度間歇'].replace([3,2],[0,0] , inplace = True)\\ntrain['高強度間歇'].replace([-3,-2,-4,-5],[0,0,0,0] , inplace = True)\\n\\ntrain['瑜伽'].replace([3,2],[0,0] , inplace = True)\\ntrain['瑜伽'].replace([-3,-2,-4,-5],[0,0,0,0] , inplace = True)\\n\\ntrain['肌力訓練'].replace([3,2],[0,0] , inplace = True)\\ntrain['肌力訓練'].replace([-3,-2,-4,-5],[0,0,0,0] , inplace = True)\\n\\ntrain['燃脂'].replace([3,2],[0,0] , inplace = True)\\ntrain['燃脂'].replace([-3,-2,-4,-5],[0,0,0,0] , inplace = True)\\n\\ntrain['減脂瘦身'].replace([3,2],[0,0] , inplace = True)\\ntrain['減脂瘦身'].replace([-3,-2,-4,-5],[0,0,0,0] , inplace = True)\\n\\ntrain['增加肌肉'].replace([3,2],[0,0] , inplace = True)\\ntrain['增加肌肉'].replace([-3,-2,-4,-5],[0,0,0,0] , inplace = True)\\n\\ntrain['舒緩壓力'].replace([3,2],[0,0] , inplace = True)\\ntrain['舒緩壓力'].replace([-3,-2,-4,-5],[0,0,0,0] , inplace = True)\""
      ]
     },
     "execution_count": 13,
     "metadata": {},
     "output_type": "execute_result"
    }
   ],
   "source": [
    "'''train['拳擊'].replace([3,2],[0,0] , inplace = True)\n",
    "train['拳擊'].replace([-3,-2,-4,-5],[0,0,0,0] , inplace = True)\n",
    "\n",
    "train['器材'].replace([3,2],[0,0] , inplace = True)\n",
    "train['器材'].replace([-3,-2,-4,-5],[0,0,0,0] , inplace = True)\n",
    "\n",
    "train['有氧'].replace([3,2],[0,0] , inplace = True)\n",
    "train['有氧'].replace([-3,-2,-4,-5],[0,0,0,0] , inplace = True)\n",
    "\n",
    "train['舞蹈'].replace([3,2],[0,0] , inplace = True)\n",
    "train['舞蹈'].replace([-3,-2,-4,-5],[0,0,0,0] , inplace = True)\n",
    "\n",
    "train['高強度間歇'].replace([3,2],[0,0] , inplace = True)\n",
    "train['高強度間歇'].replace([-3,-2,-4,-5],[0,0,0,0] , inplace = True)\n",
    "\n",
    "train['瑜伽'].replace([3,2],[0,0] , inplace = True)\n",
    "train['瑜伽'].replace([-3,-2,-4,-5],[0,0,0,0] , inplace = True)\n",
    "\n",
    "train['肌力訓練'].replace([3,2],[0,0] , inplace = True)\n",
    "train['肌力訓練'].replace([-3,-2,-4,-5],[0,0,0,0] , inplace = True)\n",
    "\n",
    "train['燃脂'].replace([3,2],[0,0] , inplace = True)\n",
    "train['燃脂'].replace([-3,-2,-4,-5],[0,0,0,0] , inplace = True)\n",
    "\n",
    "train['減脂瘦身'].replace([3,2],[0,0] , inplace = True)\n",
    "train['減脂瘦身'].replace([-3,-2,-4,-5],[0,0,0,0] , inplace = True)\n",
    "\n",
    "train['增加肌肉'].replace([3,2],[0,0] , inplace = True)\n",
    "train['增加肌肉'].replace([-3,-2,-4,-5],[0,0,0,0] , inplace = True)\n",
    "\n",
    "train['舒緩壓力'].replace([3,2],[0,0] , inplace = True)\n",
    "train['舒緩壓力'].replace([-3,-2,-4,-5],[0,0,0,0] , inplace = True)'''"
   ]
  },
  {
   "cell_type": "code",
   "execution_count": 14,
   "id": "6c3a4fa8-ae15-4b82-bd02-36bc5c85a2b6",
   "metadata": {},
   "outputs": [
    {
     "name": "stdout",
     "output_type": "stream",
     "text": [
      "count    3814.000000\n",
      "mean        0.314893\n",
      "std         0.563515\n",
      "min        -5.000000\n",
      "25%         0.000000\n",
      "50%         0.000000\n",
      "75%         1.000000\n",
      "max         3.000000\n",
      "Name: 拳擊, dtype: float64\n",
      "count    3814.000000\n",
      "mean        0.617724\n",
      "std         0.569954\n",
      "min        -5.000000\n",
      "25%         0.000000\n",
      "50%         1.000000\n",
      "75%         1.000000\n",
      "max         3.000000\n",
      "Name: 器材, dtype: float64\n",
      "count    3814.000000\n",
      "mean        0.608810\n",
      "std         0.568964\n",
      "min        -5.000000\n",
      "25%         0.000000\n",
      "50%         1.000000\n",
      "75%         1.000000\n",
      "max         3.000000\n",
      "Name: 有氧, dtype: float64\n",
      "count    3814.00000\n",
      "mean        0.61248\n",
      "std         0.58148\n",
      "min        -5.00000\n",
      "25%         0.00000\n",
      "50%         1.00000\n",
      "75%         1.00000\n",
      "max         3.00000\n",
      "Name: 舞蹈, dtype: float64\n",
      "count    3814.000000\n",
      "mean        0.647090\n",
      "std         0.561689\n",
      "min        -5.000000\n",
      "25%         0.000000\n",
      "50%         1.000000\n",
      "75%         1.000000\n",
      "max         3.000000\n",
      "Name: 高強度間歇, dtype: float64\n",
      "count    3814.000000\n",
      "mean        0.577871\n",
      "std         0.606022\n",
      "min        -5.000000\n",
      "25%         0.000000\n",
      "50%         1.000000\n",
      "75%         1.000000\n",
      "max         3.000000\n",
      "Name: 瑜伽, dtype: float64\n",
      "count    3814.000000\n",
      "mean        0.527268\n",
      "std         0.577728\n",
      "min        -5.000000\n",
      "25%         0.000000\n",
      "50%         1.000000\n",
      "75%         1.000000\n",
      "max         3.000000\n",
      "Name: 肌力訓練, dtype: float64\n",
      "count    3814.000000\n",
      "mean        0.648925\n",
      "std         0.547486\n",
      "min        -5.000000\n",
      "25%         0.000000\n",
      "50%         1.000000\n",
      "75%         1.000000\n",
      "max         3.000000\n",
      "Name: 燃脂, dtype: float64\n",
      "count    3814.000000\n",
      "mean        0.334819\n",
      "std         0.526616\n",
      "min        -5.000000\n",
      "25%         0.000000\n",
      "50%         0.000000\n",
      "75%         1.000000\n",
      "max         3.000000\n",
      "Name: 減脂瘦身, dtype: float64\n",
      "count    3814.000000\n",
      "mean        0.597011\n",
      "std         0.543325\n",
      "min        -4.000000\n",
      "25%         0.000000\n",
      "50%         1.000000\n",
      "75%         1.000000\n",
      "max         3.000000\n",
      "Name: 增加肌肉, dtype: float64\n",
      "count    3814.000000\n",
      "mean        0.735973\n",
      "std         0.542242\n",
      "min        -5.000000\n",
      "25%         0.000000\n",
      "50%         1.000000\n",
      "75%         1.000000\n",
      "max         3.000000\n",
      "Name: 舒緩壓力, dtype: float64\n"
     ]
    }
   ],
   "source": [
    "x = ['拳擊','器材','有氧','舞蹈','高強度間歇','瑜伽','肌力訓練','燃脂','減脂瘦身','增加肌肉','舒緩壓力']\n",
    "for i in x:\n",
    "    print(train[i].describe())\n"
   ]
  },
  {
   "cell_type": "code",
   "execution_count": null,
   "id": "f13a01d6-0746-4bbe-acb9-3e7a69874f42",
   "metadata": {},
   "outputs": [],
   "source": []
  },
  {
   "cell_type": "code",
   "execution_count": 15,
   "id": "18827c13-2028-4d7c-a3ff-3ede0b85686e",
   "metadata": {},
   "outputs": [],
   "source": [
    "\n",
    "out3 = train.query(\"器材 > @y \")\n",
    "outlist3 =out3.index.tolist()\n",
    "train = train.drop(outlist3)\n",
    "out4 = train.query(\"器材 < @n \")\n",
    "outlist4 =out4.index.tolist()\n",
    "train = train.drop(outlist4)\n",
    "\n",
    "out3 = train.query(\"有氧 > @y \")\n",
    "outlist3 =out3.index.tolist()\n",
    "train = train.drop(outlist3)\n",
    "out4 = train.query(\"有氧 < @n \")\n",
    "outlist4 =out4.index.tolist()\n",
    "train = train.drop(outlist4)\n",
    "\n",
    "out3 = train.query(\"舞蹈 > @y \")\n",
    "outlist3 =out3.index.tolist()\n",
    "train = train.drop(outlist3)\n",
    "out4 = train.query(\"舞蹈 < @n \")\n",
    "outlist4 =out4.index.tolist()\n",
    "train = train.drop(outlist4)\n",
    "\n",
    "out3 = train.query(\"高強度間歇 > @y \")\n",
    "outlist3 =out3.index.tolist()\n",
    "train = train.drop(outlist3)\n",
    "out4 = train.query(\"高強度間歇 < @n \")\n",
    "outlist4 =out4.index.tolist()\n",
    "train = train.drop(outlist4)\n",
    "\n",
    "out3 = train.query(\"瑜伽 > @y \")\n",
    "outlist3 =out3.index.tolist()\n",
    "train = train.drop(outlist3)\n",
    "out4 = train.query(\"瑜伽 < @n \")\n",
    "outlist4 =out4.index.tolist()\n",
    "train = train.drop(outlist4)\n",
    "\n",
    "out3 = train.query(\"肌力訓練 > @y \")\n",
    "outlist3 =out3.index.tolist()\n",
    "train = train.drop(outlist3)\n",
    "out4 = train.query(\"肌力訓練 < @n \")\n",
    "outlist4 =out4.index.tolist()\n",
    "train = train.drop(outlist4)\n",
    "\n",
    "out3 = train.query(\"燃脂 > @y \")\n",
    "outlist3 =out3.index.tolist()\n",
    "train = train.drop(outlist3)\n",
    "out4 = train.query(\"燃脂 < @n \")\n",
    "outlist4 =out4.index.tolist()\n",
    "train = train.drop(outlist4)\n",
    "\n",
    "out3 = train.query(\"減脂瘦身 > @y \")\n",
    "outlist3 =out3.index.tolist()\n",
    "train = train.drop(outlist3)\n",
    "out4 = train.query(\"減脂瘦身 < @n \")\n",
    "outlist4 =out4.index.tolist()\n",
    "train = train.drop(outlist4)\n",
    "\n",
    "out3 = train.query(\"增加肌肉 > @y \")\n",
    "outlist3 =out3.index.tolist()\n",
    "train = train.drop(outlist3)\n",
    "out4 = train.query(\"增加肌肉 < @n \")\n",
    "outlist4 =out4.index.tolist()\n",
    "train = train.drop(outlist4)\n",
    "\n",
    "out3 = train.query(\"增強體魄 > @y \")\n",
    "outlist3 =out3.index.tolist()\n",
    "train = train.drop(outlist3)\n",
    "out4 = train.query(\"增強體魄 < @n \")\n",
    "outlist4 =out4.index.tolist()\n",
    "train = train.drop(outlist4)\n",
    "\n",
    "out3 = train.query(\"舒緩壓力 > @y \")\n",
    "outlist3 =out3.index.tolist()\n",
    "train = train.drop(outlist3)\n",
    "out4 = train.query(\"舒緩壓力 < @n \")\n",
    "outlist4 =out4.index.tolist()\n",
    "train = train.drop(outlist4)\n",
    "\n",
    "X = train.drop([\"推薦類型\"], axis =1)\n",
    "y = train[\"推薦類型\"]"
   ]
  },
  {
   "cell_type": "code",
   "execution_count": 17,
   "id": "9f5ec65d-924c-49ee-a577-1221085811a0",
   "metadata": {},
   "outputs": [
    {
     "data": {
      "text/plain": [
       "5        0\n",
       "10       0\n",
       "12       1\n",
       "26       0\n",
       "33       0\n",
       "        ..\n",
       "26386    2\n",
       "26391    0\n",
       "26403    0\n",
       "26411    1\n",
       "26416    2\n",
       "Name: 推薦類型, Length: 3449, dtype: int64"
      ]
     },
     "execution_count": 17,
     "metadata": {},
     "output_type": "execute_result"
    }
   ],
   "source": [
    "y"
   ]
  },
  {
   "cell_type": "code",
   "execution_count": 15,
   "id": "b6b36bc5-f451-405b-9f66-b5c4e469e8ba",
   "metadata": {},
   "outputs": [
    {
     "data": {
      "text/plain": [
       "<AxesSubplot:>"
      ]
     },
     "execution_count": 15,
     "metadata": {},
     "output_type": "execute_result"
    },
    {
     "data": {
      "image/png": "[encoded data removed]",
      "text/plain": [
       "<Figure size 432x288 with 1 Axes>"
      ]
     },
     "metadata": {
      "needs_background": "light"
     },
     "output_type": "display_data"
    }
   ],
   "source": [
    "from imblearn.over_sampling import SMOTE\n",
    "X, y = SMOTE().fit_resample(X,y)\n",
    "y.hist()"
   ]
  },
  {
   "cell_type": "code",
   "execution_count": 16,
   "id": "a61553a0-1a4d-4d68-b0cd-1681913a888b",
   "metadata": {},
   "outputs": [],
   "source": [
    "from xgboost import XGBClassifier\n",
    "from sklearn.model_selection import cross_val_score\n",
    "import xgboost as xgb\n",
    "from sklearn.model_selection import train_test_split,GridSearchCV\n",
    "X_train, X_val, y_train, y_val = train_test_split(\n",
    "   X, y, test_size=0.25)"
   ]
  },
  {
   "cell_type": "code",
   "execution_count": 17,
   "id": "79ca894d-8da6-4148-8ea8-3b5b1803d1ee",
   "metadata": {},
   "outputs": [
    {
     "name": "stderr",
     "output_type": "stream",
     "text": [
      "C:\\Users\\KYLE\\anaconda3\\lib\\site-packages\\xgboost\\sklearn.py:1224: UserWarning: The use of label encoder in XGBClassifier is deprecated and will be removed in a future release. To remove this warning, do the following: 1) Pass option use_label_encoder=False when constructing XGBClassifier object; and 2) Encode your labels (y) as integers starting with 0, i.e. 0, 1, 2, ..., [num_class - 1].\n",
      "  warnings.warn(label_encoder_deprecation_msg, UserWarning)\n"
     ]
    },
    {
     "name": "stdout",
     "output_type": "stream",
     "text": [
      "[03:19:27] WARNING: C:\\Windows\\Temp\\abs_557yfx631l\\croots\\recipe\\xgboost-split_1659548953302\\work\\src\\learner.cc:1115: Starting in XGBoost 1.3.0, the default evaluation metric used with the objective 'multi:softprob' was changed from 'merror' to 'mlogloss'. Explicitly set eval_metric if you'd like to restore the old behavior.\n",
      "0.9828985507246377\n"
     ]
    },
    {
     "data": {
      "text/plain": [
       "0.8147826086956522"
      ]
     },
     "execution_count": 17,
     "metadata": {},
     "output_type": "execute_result"
    }
   ],
   "source": [
    "xg1 = XGBClassifier()\n",
    "xg1=xg1.fit(X_train, y_train)\n",
    "print(xg1.score(X_train,y_train))\n",
    "xg1.score(X_val,y_val)"
   ]
  },
  {
   "cell_type": "code",
   "execution_count": 18,
   "id": "d9f7700a-eee7-46f4-95b0-d4920bc4fa72",
   "metadata": {},
   "outputs": [
    {
     "data": {
      "text/plain": [
       "\"from sklearn.ensemble import RandomForestClassifier\\nrandomForestModel = RandomForestClassifier(random_state = 42, n_estimators= 500,max_features = 8,  max_depth= 14)\\nrandomForestModel.fit(X, y)\\nscores = cross_val_score(randomForestModel,X,y,cv = 7,scoring = 'accuracy')\\nscores.mean()\\n\""
      ]
     },
     "execution_count": 18,
     "metadata": {},
     "output_type": "execute_result"
    }
   ],
   "source": [
    "'''from sklearn.ensemble import RandomForestClassifier\n",
    "randomForestModel = RandomForestClassifier(random_state = 42, n_estimators= 500,max_features = 8,  max_depth= 14)\n",
    "randomForestModel.fit(X, y)\n",
    "scores = cross_val_score(randomForestModel,X,y,cv = 7,scoring = 'accuracy')\n",
    "scores.mean()\n",
    "'''\n",
    "\n"
   ]
  },
  {
   "cell_type": "code",
   "execution_count": 19,
   "id": "707d1e04-7cd3-40bb-ba13-dcaa5e53dec8",
   "metadata": {},
   "outputs": [
    {
     "name": "stdout",
     "output_type": "stream",
     "text": [
      "0.991304347826087\n"
     ]
    },
    {
     "data": {
      "text/plain": [
       "0.8452173913043477"
      ]
     },
     "execution_count": 19,
     "metadata": {},
     "output_type": "execute_result"
    }
   ],
   "source": [
    "from sklearn.ensemble import RandomForestClassifier\n",
    "RF = RandomForestClassifier()\n",
    "RF.fit(X_train, y_train)\n",
    "print(RF.score(X_train,y_train))\n",
    "RF.score(X_val,y_val)\n",
    "\n",
    "scores = cross_val_score(RF,X,y,cv = 5,scoring = 'accuracy')\n",
    "scores.mean()\n"
   ]
  },
  {
   "cell_type": "code",
   "execution_count": 20,
   "id": "3c8af00e-7cf1-4328-aeef-ba83ec35f9a4",
   "metadata": {},
   "outputs": [],
   "source": [
    "RF_param = {\"n_estimators\":[50,100,150,200,250,300],\"max_depth\":[6,8,10,12],\"max_features\" : [6,8,10,12,14]}"
   ]
  },
  {
   "cell_type": "code",
   "execution_count": 21,
   "id": "91fc4c93-76e8-4af2-b8d6-5aecc63c3ee1",
   "metadata": {},
   "outputs": [
    {
     "name": "stdout",
     "output_type": "stream",
     "text": [
      "accuracy score 0.8330434782608696\n",
      "The best model param : {'max_depth': 12, 'max_features': 6, 'n_estimators': 250}\n"
     ]
    }
   ],
   "source": [
    "\n",
    "RF = RandomForestClassifier()\n",
    "GSCV = GridSearchCV(RF,param_grid=RF_param,cv=5)\n",
    "GSCV.fit(X_train,y_train)\n",
    "print(\"accuracy score\",GSCV.score(X_val,y_val))\n",
    "print(\"The best model param :\",GSCV.best_params_)\n"
   ]
  },
  {
   "cell_type": "code",
   "execution_count": 22,
   "id": "f753a74c-d2d8-4fe1-a820-11da0a0c627f",
   "metadata": {},
   "outputs": [
    {
     "data": {
      "text/plain": [
       "\"sample_leaf_options = [1,5,10,50,100,200,500]\\nn_estimators = [100,150,200,250,300,400,500,600]\\nmax_depth = [5,10,15,20,25,30,35,40]\\nfor i in max_depth:\\n    RF = RandomForestClassifier(random_state = 42, n_estimators= 150,max_features = 6,  max_depth= i, min_samples_leaf = 1, n_jobs = -1)\\n    scores = cross_val_score(RF,X,y,cv = 5,scoring = 'accuracy')\\n    print(str(i)+'   '+str(scores.mean()))\\n\""
      ]
     },
     "execution_count": 22,
     "metadata": {},
     "output_type": "execute_result"
    }
   ],
   "source": [
    "RF = RandomForestClassifier(max_depth =  12, max_features = 6, n_estimators = 250)\n",
    "RF.fit(X,y)\n",
    "y_pred = RF.predict(test)\n",
    "y_pred_pd = pd.DataFrame(data = y_pred, columns = [\"label\"])\n",
    "y_pred_pd = y_pred_pd.astype('int64').reset_index()\n",
    "y_pred_pd.to_csv(\"e94084032.csv\", index = False)\n",
    "\n",
    "'''sample_leaf_options = [1,5,10,50,100,200,500]\n",
    "n_estimators = [100,150,200,250,300,400,500,600]\n",
    "max_depth = [5,10,15,20,25,30,35,40]\n",
    "for i in max_depth:\n",
    "    RF = RandomForestClassifier(random_state = 42, n_estimators= 150,max_features = 6,  max_depth= i, min_samples_leaf = 1, n_jobs = -1)\n",
    "    scores = cross_val_score(RF,X,y,cv = 5,scoring = 'accuracy')\n",
    "    print(str(i)+'   '+str(scores.mean()))\n",
    "'''    "
   ]
  },
  {
   "cell_type": "code",
   "execution_count": 24,
   "id": "3328f9a1-b5fb-4288-9757-4615a12f8c05",
   "metadata": {},
   "outputs": [
    {
     "data": {
      "text/plain": [
       "'RF = RandomForestClassifier(random_state = 42, n_estimators= 150,max_features = 6,  max_depth= 10, n_jobs = -1)\\nRF.fit(X,y)\\ny_pred = RF.predict(test)\\ny_pred_pd = pd.DataFrame(data = y_pred, columns = [\"label\"])\\ny_pred_pd = y_pred_pd.astype(\\'int64\\').reset_index()\\ny_pred_pd.to_csv(\"e94084032.csv\", index = False)'"
      ]
     },
     "execution_count": 24,
     "metadata": {},
     "output_type": "execute_result"
    }
   ],
   "source": []
  },
  {
   "cell_type": "code",
   "execution_count": 35,
   "id": "059e96c1-e36f-4bd5-8993-7594a096eec7",
   "metadata": {},
   "outputs": [
    {
     "name": "stdout",
     "output_type": "stream",
     "text": [
      "2   0.6239686468646864\n",
      "4   0.7200907590759075\n",
      "6   0.76753300330033\n",
      "8   0.803424092409241\n",
      "10   0.828589108910891\n",
      "12   0.8345709570957096\n",
      "14   0.8368399339933994\n",
      "16   0.8372524752475247\n",
      "18   0.8380775577557756\n"
     ]
    }
   ],
   "source": [
    "'''for i in range(2,20,2):\n",
    "    RF = RandomForestClassifier(n_estimators= 500, max_depth= i, n_jobs = -1)\n",
    "    scores = cross_val_score(RF,X,y,cv = 3,scoring = 'accuracy')\n",
    "    print(str(i)+'   '+str(scores.mean()))'''\n",
    "  "
   ]
  },
  {
   "cell_type": "code",
   "execution_count": 36,
   "id": "b0827211-6064-4445-a86e-b4f760743f14",
   "metadata": {},
   "outputs": [
    {
     "name": "stdout",
     "output_type": "stream",
     "text": [
      "1   0.8335396039603961\n",
      "2   0.8364273927392739\n",
      "3   0.8364273927392739\n",
      "4   0.8302392739273928\n",
      "5   0.8360148514851485\n",
      "6   0.8360148514851485\n",
      "7   0.8368399339933993\n",
      "8   0.8345709570957096\n",
      "9   0.8356023102310232\n",
      "10   0.8374587458745874\n",
      "11   0.8358085808580858\n",
      "12   0.8358085808580858\n",
      "13   0.8376650165016502\n",
      "14   0.8362211221122112\n",
      "15   0.8353960396039604\n",
      "16   0.8382838283828383\n",
      "17   0.8351897689768976\n",
      "18   0.8364273927392739\n",
      "19   0.8360148514851485\n"
     ]
    }
   ],
   "source": [
    "'''for i in range(1,20,1):\n",
    "    RF = RandomForestClassifier(n_estimators= 100*i, max_depth= 16, n_jobs = -1)\n",
    "    scores = cross_val_score(RF,X,y,cv = 3,scoring = 'accuracy')\n",
    "    print(str(i)+'   '+str(scores.mean()))'''"
   ]
  },
  {
   "cell_type": "code",
   "execution_count": 37,
   "id": "c265468b-a896-47cb-9aca-35b14083c667",
   "metadata": {},
   "outputs": [
    {
     "name": "stdout",
     "output_type": "stream",
     "text": [
      "1   0.8343646864686468\n",
      "2   0.8368399339933994\n",
      "3   0.8358085808580858\n",
      "4   0.8362211221122112\n",
      "5   0.8343646864686468\n",
      "6   0.8353960396039604\n",
      "7   0.8316831683168316\n",
      "8   0.8316831683168316\n",
      "9   0.8304455445544554\n",
      "10   0.8277640264026402\n",
      "11   0.8244636963696369\n",
      "12   0.8188943894389439\n",
      "13   0.8188943894389439\n"
     ]
    }
   ],
   "source": [
    "'''for i in range(1,14,1):\n",
    "    RF = RandomForestClassifier(n_estimators= 1000, max_depth= 16,max_features = i, n_jobs = -1)\n",
    "    scores = cross_val_score(RF,X,y,cv = 3,scoring = 'accuracy')\n",
    "    print(str(i)+'   '+str(scores.mean()))'''"
   ]
  },
  {
   "cell_type": "code",
   "execution_count": 38,
   "id": "5057ba11-230e-4e0b-9cd6-3cb7881965f1",
   "metadata": {},
   "outputs": [],
   "source": [
    "RF = RandomForestClassifier(n_estimators= 1000, max_depth= 16,max_features = 6, n_jobs = -1)\n",
    "RF.fit(X,y)\n",
    "y_pred = RF.predict(test)\n",
    "y_pred_pd = pd.DataFrame(data = y_pred, columns = [\"label\"])\n",
    "y_pred_pd = y_pred_pd.astype('int64').reset_index()\n",
    "y_pred_pd.to_csv(\"e94084032.csv\", index = False)"
   ]
  }
 ],
 "metadata": {
  "kernelspec": {
   "display_name": "Python 3 (ipykernel)",
   "language": "python",
   "name": "python3"
  },
  "language_info": {
   "codemirror_mode": {
    "name": "ipython",
    "version": 3
   },
   "file_extension": ".py",
   "mimetype": "text/x-python",
   "name": "python",
   "nbconvert_exporter": "python",
   "pygments_lexer": "ipython3",
   "version": "3.9.7"
  }
 },
 "nbformat": 4,
 "nbformat_minor": 5
}
