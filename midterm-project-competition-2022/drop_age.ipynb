{
 "cells": [
  {
   "cell_type": "code",
   "execution_count": 1,
   "id": "6aef5828-dbcf-4ba5-a822-60a5e48e0e45",
   "metadata": {},
   "outputs": [],
   "source": [
    "''' drop 年齡 '''\n",
    "\n",
    "\n",
    "import pandas as pd\n",
    "import numpy as np\n",
    "import matplotlib.pyplot as plt"
   ]
  },
  {
   "cell_type": "code",
   "execution_count": 2,
   "id": "c2f9feaa-755b-4877-83e4-8658b556d6a0",
   "metadata": {},
   "outputs": [],
   "source": [
    "train = pd.read_csv(\"train.csv\")\n",
    "test = pd.read_csv(\"test.csv\")\n",
    "sS = pd.read_csv(\"sampleSubmission.csv\")"
   ]
  },
  {
   "cell_type": "code",
   "execution_count": 4,
   "id": "7ed811f6-e9bf-4590-9ee4-eb8622bdf8c5",
   "metadata": {},
   "outputs": [],
   "source": [
    "train['推薦類型'].replace(['肌力',\"柔軟度\",\"心肺\",\"肌耐力\",\"error\",\"錯誤\",\"無此類別\"],[0,1,2,3,np.nan,np.nan,np.nan] , inplace = True)\n",
    "train = train.dropna(axis=0, how='any', thresh=None, subset=None, inplace=False)\n",
    "train['推薦類型'] = train['推薦類型'].astype('int64')"
   ]
  },
  {
   "cell_type": "code",
   "execution_count": 5,
   "id": "b74ea446-9b13-4191-afe9-382de8ed09bd",
   "metadata": {},
   "outputs": [],
   "source": [
    "train = train.drop([\"年齡\"], axis = 1)"
   ]
  },
  {
   "cell_type": "code",
   "execution_count": 6,
   "id": "10482a65-243d-46c9-925b-5789e7bcb006",
   "metadata": {},
   "outputs": [],
   "source": [
    "y = 1\n",
    "n = 0\n",
    "\n",
    "out1 = train.query(\"拳擊 > @y \")\n",
    "outlist1 =out1.index.tolist()\n",
    "train = train.drop(outlist1)\n",
    "\n",
    "out2 = train.query(\"拳擊 < @n \")\n",
    "outlist2 =out2.index.tolist()\n",
    "train = train.drop(outlist2)\n",
    "\n",
    "out3 = train.query(\"器材 > @y \")\n",
    "outlist3 =out3.index.tolist()\n",
    "train = train.drop(outlist3)\n",
    "out4 = train.query(\"器材 < @n \")\n",
    "outlist4 =out4.index.tolist()\n",
    "train = train.drop(outlist4)\n",
    "\n",
    "out3 = train.query(\"有氧 > @y \")\n",
    "outlist3 =out3.index.tolist()\n",
    "train = train.drop(outlist3)\n",
    "out4 = train.query(\"有氧 < @n \")\n",
    "outlist4 =out4.index.tolist()\n",
    "train = train.drop(outlist4)\n",
    "\n",
    "out3 = train.query(\"舞蹈 > @y \")\n",
    "outlist3 =out3.index.tolist()\n",
    "train = train.drop(outlist3)\n",
    "out4 = train.query(\"舞蹈 < @n \")\n",
    "outlist4 =out4.index.tolist()\n",
    "train = train.drop(outlist4)\n",
    "\n",
    "out3 = train.query(\"高強度間歇 > @y \")\n",
    "outlist3 =out3.index.tolist()\n",
    "train = train.drop(outlist3)\n",
    "out4 = train.query(\"高強度間歇 < @n \")\n",
    "outlist4 =out4.index.tolist()\n",
    "train = train.drop(outlist4)\n",
    "\n",
    "out3 = train.query(\"瑜伽 > @y \")\n",
    "outlist3 =out3.index.tolist()\n",
    "train = train.drop(outlist3)\n",
    "out4 = train.query(\"瑜伽 < @n \")\n",
    "outlist4 =out4.index.tolist()\n",
    "train = train.drop(outlist4)\n",
    "\n",
    "out3 = train.query(\"肌力訓練 > @y \")\n",
    "outlist3 =out3.index.tolist()\n",
    "train = train.drop(outlist3)\n",
    "out4 = train.query(\"肌力訓練 < @n \")\n",
    "outlist4 =out4.index.tolist()\n",
    "train = train.drop(outlist4)\n",
    "\n",
    "out3 = train.query(\"燃脂 > @y \")\n",
    "outlist3 =out3.index.tolist()\n",
    "train = train.drop(outlist3)\n",
    "out4 = train.query(\"燃脂 < @n \")\n",
    "outlist4 =out4.index.tolist()\n",
    "train = train.drop(outlist4)\n",
    "\n",
    "out3 = train.query(\"減脂瘦身 > @y \")\n",
    "outlist3 =out3.index.tolist()\n",
    "train = train.drop(outlist3)\n",
    "out4 = train.query(\"減脂瘦身 < @n \")\n",
    "outlist4 =out4.index.tolist()\n",
    "train = train.drop(outlist4)\n",
    "\n",
    "out3 = train.query(\"增加肌肉 > @y \")\n",
    "outlist3 =out3.index.tolist()\n",
    "train = train.drop(outlist3)\n",
    "out4 = train.query(\"增加肌肉 < @n \")\n",
    "outlist4 =out4.index.tolist()\n",
    "train = train.drop(outlist4)\n",
    "\n",
    "out3 = train.query(\"增強體魄 > @y \")\n",
    "outlist3 =out3.index.tolist()\n",
    "train = train.drop(outlist3)\n",
    "out4 = train.query(\"增強體魄 < @n \")\n",
    "outlist4 =out4.index.tolist()\n",
    "train = train.drop(outlist4)\n",
    "\n",
    "out3 = train.query(\"舒緩壓力 > @y \")\n",
    "outlist3 =out3.index.tolist()\n",
    "train = train.drop(outlist3)\n",
    "out4 = train.query(\"舒緩壓力 < @n \")\n",
    "outlist4 =out4.index.tolist()\n",
    "train = train.drop(outlist4)"
   ]
  },
  {
   "cell_type": "code",
   "execution_count": 7,
   "id": "2e6250b8-99f4-42ef-a084-e230cde43b36",
   "metadata": {},
   "outputs": [
    {
     "data": {
      "text/plain": [
       "<AxesSubplot:>"
      ]
     },
     "execution_count": 7,
     "metadata": {},
     "output_type": "execute_result"
    },
    {
     "data": {
      "image/png": "[encoded data removed]",
      "text/plain": [
       "<Figure size 432x288 with 1 Axes>"
      ]
     },
     "metadata": {
      "needs_background": "light"
     },
     "output_type": "display_data"
    }
   ],
   "source": [
    "BMI = 15\n",
    "out_BMI = train.query(\"BMI < @BMI\")\n",
    "out_BMI_list =out_BMI.index.tolist()\n",
    "train = train.drop(out_BMI_list)\n",
    "train[\"BMI\"].hist()"
   ]
  },
  {
   "cell_type": "code",
   "execution_count": 8,
   "id": "ab1164c5-09fc-4ab2-868c-c19098e82008",
   "metadata": {},
   "outputs": [],
   "source": [
    "from xgboost import XGBClassifier\n",
    "from sklearn.model_selection import cross_val_score\n",
    "import xgboost as xgb\n",
    "from sklearn.model_selection import train_test_split\n",
    "import seaborn as sns"
   ]
  },
  {
   "cell_type": "code",
   "execution_count": 9,
   "id": "07773c8a-d253-4071-9290-301cabfd4a98",
   "metadata": {},
   "outputs": [],
   "source": [
    "X = train.drop([\"推薦類型\"], axis =1)\n",
    "y = train[\"推薦類型\"]\n",
    "\n",
    "X_train, X_val, y_train, y_val = train_test_split(\n",
    "    X, y, test_size=0.33, random_state= 1)"
   ]
  },
  {
   "cell_type": "code",
   "execution_count": 10,
   "id": "44df30a3-b308-4112-a0b3-d062efcaa1c2",
   "metadata": {},
   "outputs": [
    {
     "name": "stderr",
     "output_type": "stream",
     "text": [
      "C:\\Users\\KYLE\\anaconda3\\lib\\site-packages\\xgboost\\sklearn.py:1224: UserWarning: The use of label encoder in XGBClassifier is deprecated and will be removed in a future release. To remove this warning, do the following: 1) Pass option use_label_encoder=False when constructing XGBClassifier object; and 2) Encode your labels (y) as integers starting with 0, i.e. 0, 1, 2, ..., [num_class - 1].\n",
      "  warnings.warn(label_encoder_deprecation_msg, UserWarning)\n"
     ]
    },
    {
     "name": "stdout",
     "output_type": "stream",
     "text": [
      "[23:48:28] WARNING: C:\\Windows\\Temp\\abs_557yfx631l\\croots\\recipe\\xgboost-split_1659548953302\\work\\src\\learner.cc:1115: Starting in XGBoost 1.3.0, the default evaluation metric used with the objective 'multi:softprob' was changed from 'merror' to 'mlogloss'. Explicitly set eval_metric if you'd like to restore the old behavior.\n",
      "0.6362924690778143\n"
     ]
    },
    {
     "data": {
      "text/plain": [
       "0.265332062281538"
      ]
     },
     "execution_count": 10,
     "metadata": {},
     "output_type": "execute_result"
    }
   ],
   "source": [
    "xg1 = XGBClassifier()\n",
    "xg1=xg1.fit(X_train, y_train)\n",
    "print(xg1.score(X_train,y_train))\n",
    "xg1.score(X_val ,y_val)"
   ]
  },
  {
   "cell_type": "code",
   "execution_count": null,
   "id": "12c1ac5d-c41f-41f1-968d-f9cd5bd73f48",
   "metadata": {},
   "outputs": [],
   "source": []
  }
 ],
 "metadata": {
  "kernelspec": {
   "display_name": "Python 3 (ipykernel)",
   "language": "python",
   "name": "python3"
  },
  "language_info": {
   "codemirror_mode": {
    "name": "ipython",
    "version": 3
   },
   "file_extension": ".py",
   "mimetype": "text/x-python",
   "name": "python",
   "nbconvert_exporter": "python",
   "pygments_lexer": "ipython3",
   "version": "3.9.7"
  }
 },
 "nbformat": 4,
 "nbformat_minor": 5
}
