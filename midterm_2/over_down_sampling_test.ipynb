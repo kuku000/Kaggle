{
 "cells": [
  {
   "cell_type": "code",
   "execution_count": 1,
   "id": "bba3b58f-2d50-4645-82f3-c0a7e5616e43",
   "metadata": {},
   "outputs": [],
   "source": [
    "import pandas as pd\n",
    "import numpy as np\n",
    "import matplotlib.pyplot as plt\n",
    "from xgboost import XGBClassifier\n",
    "from sklearn.model_selection import cross_val_score\n",
    "import xgboost as xgb\n",
    "from sklearn.model_selection import train_test_split,GridSearchCV\n",
    "import random"
   ]
  },
  {
   "cell_type": "code",
   "execution_count": 2,
   "id": "96be3326-2562-4897-b789-e770e9160782",
   "metadata": {},
   "outputs": [],
   "source": [
    "train = pd.read_csv(\"train.csv\")\n",
    "test = pd.read_csv(\"test.csv\")\n",
    "sS = pd.read_csv(\"sampleSubmission.csv\")"
   ]
  },
  {
   "cell_type": "code",
   "execution_count": 3,
   "id": "ba1dff82-e9ac-4a4b-a3b8-243c52a3812f",
   "metadata": {},
   "outputs": [],
   "source": [
    "select_label = [0, 1, 2, 3]\n",
    "select_habits = [0., 1.]"
   ]
  },
  {
   "cell_type": "code",
   "execution_count": 4,
   "id": "c31b1183-b0fd-4734-8fb0-fd05bcd80d2c",
   "metadata": {},
   "outputs": [],
   "source": [
    "train['推薦類型'].replace(['肌力',\"柔軟度\",\"心肺\",\"肌耐力\"],[0,1,2,3] , inplace = True)\n",
    "train = train[train['推薦類型'].isin(select_label)]"
   ]
  },
  {
   "cell_type": "code",
   "execution_count": 5,
   "id": "75408333-f8c0-4874-b470-a16c8f3572b0",
   "metadata": {},
   "outputs": [],
   "source": [
    "train = train[train['拳擊'].isin(select_habits)]\n",
    "train = train[train['器材'].isin(select_habits)]\n",
    "train = train[train['有氧'].isin(select_habits)]\n",
    "train = train[train['舞蹈'].isin(select_habits)]\n",
    "train = train[train['高強度間歇'].isin(select_habits)]\n",
    "train = train[train['瑜伽'].isin(select_habits)]\n",
    "train = train[train['肌力訓練'].isin(select_habits)]\n",
    "train = train[train['燃脂'].isin(select_habits)]\n",
    "train = train[train['減脂瘦身'].isin(select_habits)]\n",
    "train = train[train['增加肌肉'].isin(select_habits)]\n",
    "train = train[train['增強體魄'].isin(select_habits)]\n",
    "train = train[train['舒緩壓力'].isin(select_habits)]"
   ]
  },
  {
   "cell_type": "code",
   "execution_count": 6,
   "id": "dfa51b59-5628-4cfc-8991-4b0d05509f23",
   "metadata": {},
   "outputs": [],
   "source": [
    "train = train[train['年齡']<70]\n",
    "train = train[train['BMI']>10]"
   ]
  },
  {
   "cell_type": "code",
   "execution_count": 7,
   "id": "6e79e31a-348d-4981-8ffc-14d58783d905",
   "metadata": {},
   "outputs": [
    {
     "name": "stdout",
     "output_type": "stream",
     "text": [
      "<class 'pandas.core.frame.DataFrame'>\n",
      "Int64Index: 3425 entries, 5 to 26416\n",
      "Data columns (total 16 columns):\n",
      " #   Column  Non-Null Count  Dtype  \n",
      "---  ------  --------------  -----  \n",
      " 0   性別      3425 non-null   float64\n",
      " 1   年齡      3425 non-null   float64\n",
      " 2   BMI     3425 non-null   float64\n",
      " 3   拳擊      3425 non-null   float64\n",
      " 4   器材      3425 non-null   float64\n",
      " 5   有氧      3425 non-null   float64\n",
      " 6   舞蹈      3425 non-null   float64\n",
      " 7   高強度間歇   3425 non-null   float64\n",
      " 8   瑜伽      3425 non-null   float64\n",
      " 9   肌力訓練    3425 non-null   float64\n",
      " 10  燃脂      3425 non-null   float64\n",
      " 11  減脂瘦身    3425 non-null   float64\n",
      " 12  增加肌肉    3425 non-null   float64\n",
      " 13  增強體魄    3425 non-null   float64\n",
      " 14  舒緩壓力    3425 non-null   float64\n",
      " 15  推薦類型    3425 non-null   object \n",
      "dtypes: float64(15), object(1)\n",
      "memory usage: 454.9+ KB\n"
     ]
    }
   ],
   "source": [
    "train.info()"
   ]
  },
  {
   "cell_type": "code",
   "execution_count": 8,
   "id": "e57edcd2-8975-4bc8-a66a-bca5a84f958a",
   "metadata": {},
   "outputs": [
    {
     "data": {
      "text/html": [
       "<div>\n",
       "<style scoped>\n",
       "    .dataframe tbody tr th:only-of-type {\n",
       "        vertical-align: middle;\n",
       "    }\n",
       "\n",
       "    .dataframe tbody tr th {\n",
       "        vertical-align: top;\n",
       "    }\n",
       "\n",
       "    .dataframe thead th {\n",
       "        text-align: right;\n",
       "    }\n",
       "</style>\n",
       "<table border=\"1\" class=\"dataframe\">\n",
       "  <thead>\n",
       "    <tr style=\"text-align: right;\">\n",
       "      <th></th>\n",
       "      <th>性別</th>\n",
       "      <th>年齡</th>\n",
       "      <th>BMI</th>\n",
       "      <th>拳擊</th>\n",
       "      <th>器材</th>\n",
       "      <th>有氧</th>\n",
       "      <th>舞蹈</th>\n",
       "      <th>高強度間歇</th>\n",
       "      <th>瑜伽</th>\n",
       "      <th>肌力訓練</th>\n",
       "      <th>燃脂</th>\n",
       "      <th>減脂瘦身</th>\n",
       "      <th>增加肌肉</th>\n",
       "      <th>增強體魄</th>\n",
       "      <th>舒緩壓力</th>\n",
       "      <th>推薦類型</th>\n",
       "    </tr>\n",
       "  </thead>\n",
       "  <tbody>\n",
       "    <tr>\n",
       "      <th>5</th>\n",
       "      <td>1</td>\n",
       "      <td>47.0</td>\n",
       "      <td>22.521372</td>\n",
       "      <td>0</td>\n",
       "      <td>0</td>\n",
       "      <td>1</td>\n",
       "      <td>1</td>\n",
       "      <td>1</td>\n",
       "      <td>1</td>\n",
       "      <td>0</td>\n",
       "      <td>1</td>\n",
       "      <td>1</td>\n",
       "      <td>1</td>\n",
       "      <td>1</td>\n",
       "      <td>1</td>\n",
       "      <td>0</td>\n",
       "    </tr>\n",
       "    <tr>\n",
       "      <th>10</th>\n",
       "      <td>1</td>\n",
       "      <td>46.0</td>\n",
       "      <td>23.161083</td>\n",
       "      <td>1</td>\n",
       "      <td>1</td>\n",
       "      <td>1</td>\n",
       "      <td>0</td>\n",
       "      <td>1</td>\n",
       "      <td>0</td>\n",
       "      <td>1</td>\n",
       "      <td>1</td>\n",
       "      <td>0</td>\n",
       "      <td>1</td>\n",
       "      <td>0</td>\n",
       "      <td>1</td>\n",
       "      <td>0</td>\n",
       "    </tr>\n",
       "    <tr>\n",
       "      <th>12</th>\n",
       "      <td>1</td>\n",
       "      <td>43.0</td>\n",
       "      <td>22.053277</td>\n",
       "      <td>0</td>\n",
       "      <td>1</td>\n",
       "      <td>1</td>\n",
       "      <td>1</td>\n",
       "      <td>1</td>\n",
       "      <td>0</td>\n",
       "      <td>0</td>\n",
       "      <td>0</td>\n",
       "      <td>1</td>\n",
       "      <td>1</td>\n",
       "      <td>1</td>\n",
       "      <td>1</td>\n",
       "      <td>1</td>\n",
       "    </tr>\n",
       "    <tr>\n",
       "      <th>33</th>\n",
       "      <td>1</td>\n",
       "      <td>38.0</td>\n",
       "      <td>19.310658</td>\n",
       "      <td>0</td>\n",
       "      <td>1</td>\n",
       "      <td>1</td>\n",
       "      <td>1</td>\n",
       "      <td>0</td>\n",
       "      <td>0</td>\n",
       "      <td>1</td>\n",
       "      <td>0</td>\n",
       "      <td>1</td>\n",
       "      <td>0</td>\n",
       "      <td>1</td>\n",
       "      <td>1</td>\n",
       "      <td>0</td>\n",
       "    </tr>\n",
       "    <tr>\n",
       "      <th>43</th>\n",
       "      <td>1</td>\n",
       "      <td>45.0</td>\n",
       "      <td>20.259939</td>\n",
       "      <td>1</td>\n",
       "      <td>1</td>\n",
       "      <td>1</td>\n",
       "      <td>1</td>\n",
       "      <td>1</td>\n",
       "      <td>1</td>\n",
       "      <td>1</td>\n",
       "      <td>1</td>\n",
       "      <td>0</td>\n",
       "      <td>1</td>\n",
       "      <td>0</td>\n",
       "      <td>0</td>\n",
       "      <td>2</td>\n",
       "    </tr>\n",
       "    <tr>\n",
       "      <th>...</th>\n",
       "      <td>...</td>\n",
       "      <td>...</td>\n",
       "      <td>...</td>\n",
       "      <td>...</td>\n",
       "      <td>...</td>\n",
       "      <td>...</td>\n",
       "      <td>...</td>\n",
       "      <td>...</td>\n",
       "      <td>...</td>\n",
       "      <td>...</td>\n",
       "      <td>...</td>\n",
       "      <td>...</td>\n",
       "      <td>...</td>\n",
       "      <td>...</td>\n",
       "      <td>...</td>\n",
       "      <td>...</td>\n",
       "    </tr>\n",
       "    <tr>\n",
       "      <th>26391</th>\n",
       "      <td>0</td>\n",
       "      <td>46.0</td>\n",
       "      <td>21.589910</td>\n",
       "      <td>1</td>\n",
       "      <td>1</td>\n",
       "      <td>1</td>\n",
       "      <td>1</td>\n",
       "      <td>0</td>\n",
       "      <td>1</td>\n",
       "      <td>1</td>\n",
       "      <td>1</td>\n",
       "      <td>1</td>\n",
       "      <td>1</td>\n",
       "      <td>0</td>\n",
       "      <td>1</td>\n",
       "      <td>0</td>\n",
       "    </tr>\n",
       "    <tr>\n",
       "      <th>26403</th>\n",
       "      <td>1</td>\n",
       "      <td>46.0</td>\n",
       "      <td>22.491349</td>\n",
       "      <td>0</td>\n",
       "      <td>0</td>\n",
       "      <td>1</td>\n",
       "      <td>0</td>\n",
       "      <td>1</td>\n",
       "      <td>1</td>\n",
       "      <td>1</td>\n",
       "      <td>1</td>\n",
       "      <td>0</td>\n",
       "      <td>1</td>\n",
       "      <td>1</td>\n",
       "      <td>0</td>\n",
       "      <td>0</td>\n",
       "    </tr>\n",
       "    <tr>\n",
       "      <th>26411</th>\n",
       "      <td>0</td>\n",
       "      <td>45.0</td>\n",
       "      <td>22.157158</td>\n",
       "      <td>0</td>\n",
       "      <td>1</td>\n",
       "      <td>0</td>\n",
       "      <td>1</td>\n",
       "      <td>1</td>\n",
       "      <td>0</td>\n",
       "      <td>0</td>\n",
       "      <td>1</td>\n",
       "      <td>0</td>\n",
       "      <td>1</td>\n",
       "      <td>1</td>\n",
       "      <td>0</td>\n",
       "      <td>1</td>\n",
       "    </tr>\n",
       "    <tr>\n",
       "      <th>26414</th>\n",
       "      <td>1</td>\n",
       "      <td>26.0</td>\n",
       "      <td>14.634752</td>\n",
       "      <td>1</td>\n",
       "      <td>0</td>\n",
       "      <td>0</td>\n",
       "      <td>0</td>\n",
       "      <td>0</td>\n",
       "      <td>0</td>\n",
       "      <td>0</td>\n",
       "      <td>0</td>\n",
       "      <td>0</td>\n",
       "      <td>0</td>\n",
       "      <td>0</td>\n",
       "      <td>1</td>\n",
       "      <td>2</td>\n",
       "    </tr>\n",
       "    <tr>\n",
       "      <th>26416</th>\n",
       "      <td>0</td>\n",
       "      <td>30.0</td>\n",
       "      <td>18.818924</td>\n",
       "      <td>0</td>\n",
       "      <td>1</td>\n",
       "      <td>1</td>\n",
       "      <td>0</td>\n",
       "      <td>1</td>\n",
       "      <td>1</td>\n",
       "      <td>0</td>\n",
       "      <td>1</td>\n",
       "      <td>0</td>\n",
       "      <td>0</td>\n",
       "      <td>1</td>\n",
       "      <td>1</td>\n",
       "      <td>2</td>\n",
       "    </tr>\n",
       "  </tbody>\n",
       "</table>\n",
       "<p>3425 rows × 16 columns</p>\n",
       "</div>"
      ],
      "text/plain": [
       "       性別    年齡        BMI  拳擊  器材  有氧  舞蹈  高強度間歇  瑜伽  肌力訓練  燃脂  減脂瘦身  增加肌肉  \\\n",
       "5       1  47.0  22.521372   0   0   1   1      1   1     0   1     1     1   \n",
       "10      1  46.0  23.161083   1   1   1   0      1   0     1   1     0     1   \n",
       "12      1  43.0  22.053277   0   1   1   1      1   0     0   0     1     1   \n",
       "33      1  38.0  19.310658   0   1   1   1      0   0     1   0     1     0   \n",
       "43      1  45.0  20.259939   1   1   1   1      1   1     1   1     0     1   \n",
       "...    ..   ...        ...  ..  ..  ..  ..    ...  ..   ...  ..   ...   ...   \n",
       "26391   0  46.0  21.589910   1   1   1   1      0   1     1   1     1     1   \n",
       "26403   1  46.0  22.491349   0   0   1   0      1   1     1   1     0     1   \n",
       "26411   0  45.0  22.157158   0   1   0   1      1   0     0   1     0     1   \n",
       "26414   1  26.0  14.634752   1   0   0   0      0   0     0   0     0     0   \n",
       "26416   0  30.0  18.818924   0   1   1   0      1   1     0   1     0     0   \n",
       "\n",
       "       增強體魄  舒緩壓力  推薦類型  \n",
       "5         1     1     0  \n",
       "10        0     1     0  \n",
       "12        1     1     1  \n",
       "33        1     1     0  \n",
       "43        0     0     2  \n",
       "...     ...   ...   ...  \n",
       "26391     0     1     0  \n",
       "26403     1     0     0  \n",
       "26411     1     0     1  \n",
       "26414     0     1     2  \n",
       "26416     1     1     2  \n",
       "\n",
       "[3425 rows x 16 columns]"
      ]
     },
     "execution_count": 8,
     "metadata": {},
     "output_type": "execute_result"
    }
   ],
   "source": [
    "train['拳擊'] = train['拳擊'].astype(int)\n",
    "train['器材'] = train['器材'].astype(int)\n",
    "train['有氧'] = train['有氧'].astype(int)\n",
    "train['舞蹈'] = train['舞蹈'].astype(int)\n",
    "train['高強度間歇'] = train['高強度間歇'].astype(int)\n",
    "train['肌力訓練'] = train['肌力訓練'].astype(int)\n",
    "train['瑜伽'] = train['瑜伽'].astype(int)\n",
    "train['燃脂'] = train['燃脂'].astype(int)\n",
    "train['減脂瘦身'] = train['減脂瘦身'].astype(int)\n",
    "train['增加肌肉'] = train['增加肌肉'].astype(int)\n",
    "train['增強體魄'] = train['增強體魄'].astype(int)\n",
    "train['舒緩壓力'] = train['舒緩壓力'].astype(int)\n",
    "train[\"性別\"] = train[\"性別\"].astype(int)\n",
    "train['推薦類型'] = train['推薦類型'].astype(int)\n",
    "train"
   ]
  },
  {
   "cell_type": "code",
   "execution_count": 9,
   "id": "e7e33c58-4615-4468-9c07-4f471404ecf5",
   "metadata": {},
   "outputs": [
    {
     "data": {
      "text/plain": [
       "'T =23\\nD =22\\nout = train.query(\"@T> BMI > @D \")\\noutlist = out.index.tolist()\\noutlist = random.sample(outlist,150)\\ntrain = train.drop(outlist)\\n\\ntrain'"
      ]
     },
     "execution_count": 9,
     "metadata": {},
     "output_type": "execute_result"
    }
   ],
   "source": [
    "'''T =23\n",
    "D =22\n",
    "out = train.query(\"@T> BMI > @D \")\n",
    "outlist = out.index.tolist()\n",
    "outlist = random.sample(outlist,150)\n",
    "train = train.drop(outlist)\n",
    "\n",
    "train'''"
   ]
  },
  {
   "cell_type": "code",
   "execution_count": 10,
   "id": "21f28bb2-a5b4-421d-b12a-3b827a40dd09",
   "metadata": {},
   "outputs": [],
   "source": [
    "X = train.drop([\"推薦類型\"], axis =1)\n",
    "y = train[\"推薦類型\"]"
   ]
  },
  {
   "cell_type": "code",
   "execution_count": 11,
   "id": "839dc4b6-7546-41b7-ac42-2944d8ac827b",
   "metadata": {},
   "outputs": [
    {
     "data": {
      "text/plain": [
       "22.491349    307\n",
       "19.879103    127\n",
       "23.875115     80\n",
       "18.818924     71\n",
       "16.358025     63\n",
       "            ... \n",
       "23.143572      1\n",
       "17.088284      1\n",
       "14.015922      1\n",
       "17.775502      1\n",
       "14.634752      1\n",
       "Name: BMI, Length: 2535, dtype: int64"
      ]
     },
     "execution_count": 11,
     "metadata": {},
     "output_type": "execute_result"
    }
   ],
   "source": [
    "X[\"BMI\"].value_counts()"
   ]
  },
  {
   "cell_type": "code",
   "execution_count": 12,
   "id": "57b555b3-32d6-41aa-840e-c022d166fece",
   "metadata": {},
   "outputs": [],
   "source": [
    "from xgboost import XGBClassifier\n",
    "from sklearn.model_selection import cross_val_score\n",
    "import xgboost as xgb\n",
    "from sklearn.model_selection import train_test_split,GridSearchCV"
   ]
  },
  {
   "cell_type": "code",
   "execution_count": 13,
   "id": "274f2af9-6eb5-4935-83bf-ed015e34b399",
   "metadata": {},
   "outputs": [
    {
     "data": {
      "text/plain": [
       "0    1112\n",
       "1    1112\n",
       "2    1112\n",
       "3    1112\n",
       "Name: 推薦類型, dtype: int64"
      ]
     },
     "execution_count": 13,
     "metadata": {},
     "output_type": "execute_result"
    },
    {
     "data": {
      "image/png": "[encoded data removed]",
      "text/plain": [
       "<Figure size 432x288 with 1 Axes>"
      ]
     },
     "metadata": {
      "needs_background": "light"
     },
     "output_type": "display_data"
    }
   ],
   "source": [
    "from imblearn.over_sampling import SMOTE\n",
    "from imblearn.under_sampling import TomekLinks\n",
    "X_s, y_s = TomekLinks().fit_resample(X, y)\n",
    "X_s, y_s = SMOTE(random_state = 0).fit_resample(X_s,y_s)\n",
    "\n",
    "y_s.hist()\n",
    "y_s.value_counts()"
   ]
  },
  {
   "cell_type": "code",
   "execution_count": 14,
   "id": "c8d3fcc1-5bdf-4fbf-b557-00b9c25cfa3c",
   "metadata": {},
   "outputs": [
    {
     "data": {
      "text/plain": [
       "22.491349    326\n",
       "23.875115    309\n",
       "19.879103    154\n",
       "16.358025     76\n",
       "18.818924     65\n",
       "            ... \n",
       "16.781371      1\n",
       "21.298631      1\n",
       "25.646778      1\n",
       "22.774694      1\n",
       "13.714542      1\n",
       "Name: BMI, Length: 3298, dtype: int64"
      ]
     },
     "execution_count": 14,
     "metadata": {},
     "output_type": "execute_result"
    }
   ],
   "source": [
    "X_s[\"BMI\"].value_counts()"
   ]
  },
  {
   "cell_type": "code",
   "execution_count": 15,
   "id": "16d24b73-24a2-4829-9b27-83dc8b62b4c5",
   "metadata": {},
   "outputs": [],
   "source": [
    "train = pd.concat([X_s,y_s],axis =1)"
   ]
  },
  {
   "cell_type": "code",
   "execution_count": 16,
   "id": "376061a0-772a-4ddc-98ce-c19632a8ab06",
   "metadata": {},
   "outputs": [],
   "source": [
    "for i in range(1,24):\n",
    "    out = train.query(\"@i+1> BMI > @i \")\n",
    "    if len(out) >200:\n",
    "        outlist = out.index.tolist()\n",
    "        outlist = random.sample(outlist,100)\n",
    "        train = train.drop(outlist)\n",
    "        "
   ]
  },
  {
   "cell_type": "code",
   "execution_count": 17,
   "id": "201de4ad-1950-4b0b-b574-9e79aceec9f6",
   "metadata": {},
   "outputs": [],
   "source": [
    "X_s = train.drop([\"推薦類型\"], axis =1)\n",
    "y_s = train[\"推薦類型\"]"
   ]
  },
  {
   "cell_type": "code",
   "execution_count": 18,
   "id": "617611d0-01bd-4fc7-b4c9-ad73afb56da0",
   "metadata": {},
   "outputs": [
    {
     "data": {
      "text/plain": [
       "<AxesSubplot:>"
      ]
     },
     "execution_count": 18,
     "metadata": {},
     "output_type": "execute_result"
    },
    {
     "data": {
      "image/png": "[encoded data removed]",
      "text/plain": [
       "<Figure size 432x288 with 1 Axes>"
      ]
     },
     "metadata": {
      "needs_background": "light"
     },
     "output_type": "display_data"
    }
   ],
   "source": [
    "y_s.hist()"
   ]
  },
  {
   "cell_type": "code",
   "execution_count": 19,
   "id": "6dc5236a-d094-4b4a-ac0a-df6dfd96cc20",
   "metadata": {},
   "outputs": [],
   "source": [
    "from sklearn.ensemble import RandomForestClassifier\n",
    "X_train, X_val, y_train, y_val = train_test_split(\n",
    "   X_s, y_s, test_size=0.33, random_state=42)"
   ]
  },
  {
   "cell_type": "code",
   "execution_count": 20,
   "id": "0c2478aa-ba96-4780-8bf4-4f0b97587652",
   "metadata": {},
   "outputs": [
    {
     "data": {
      "text/plain": [
       "0.877906976744186"
      ]
     },
     "execution_count": 20,
     "metadata": {},
     "output_type": "execute_result"
    }
   ],
   "source": [
    "randomForestModel = RandomForestClassifier(random_state = 42, n_estimators= 400)\n",
    "randomForestModel.fit(X_train,y_train)\n",
    "randomForestModel.score(X_val,y_val)"
   ]
  },
  {
   "cell_type": "code",
   "execution_count": 21,
   "id": "414785b4-2554-429a-a85d-fbee1fb72ef9",
   "metadata": {},
   "outputs": [
    {
     "name": "stderr",
     "output_type": "stream",
     "text": [
      "C:\\Users\\KYLE\\anaconda3\\lib\\site-packages\\xgboost\\sklearn.py:1224: UserWarning: The use of label encoder in XGBClassifier is deprecated and will be removed in a future release. To remove this warning, do the following: 1) Pass option use_label_encoder=False when constructing XGBClassifier object; and 2) Encode your labels (y) as integers starting with 0, i.e. 0, 1, 2, ..., [num_class - 1].\n",
      "  warnings.warn(label_encoder_deprecation_msg, UserWarning)\n"
     ]
    },
    {
     "name": "stdout",
     "output_type": "stream",
     "text": [
      "[11:31:51] WARNING: C:\\Windows\\Temp\\abs_557yfx631l\\croots\\recipe\\xgboost-split_1659548953302\\work\\src\\learner.cc:1115: Starting in XGBoost 1.3.0, the default evaluation metric used with the objective 'multi:softprob' was changed from 'merror' to 'mlogloss'. Explicitly set eval_metric if you'd like to restore the old behavior.\n"
     ]
    },
    {
     "name": "stderr",
     "output_type": "stream",
     "text": [
      "C:\\Users\\KYLE\\anaconda3\\lib\\site-packages\\xgboost\\sklearn.py:1224: UserWarning: The use of label encoder in XGBClassifier is deprecated and will be removed in a future release. To remove this warning, do the following: 1) Pass option use_label_encoder=False when constructing XGBClassifier object; and 2) Encode your labels (y) as integers starting with 0, i.e. 0, 1, 2, ..., [num_class - 1].\n",
      "  warnings.warn(label_encoder_deprecation_msg, UserWarning)\n"
     ]
    },
    {
     "name": "stdout",
     "output_type": "stream",
     "text": [
      "[11:31:53] WARNING: C:\\Windows\\Temp\\abs_557yfx631l\\croots\\recipe\\xgboost-split_1659548953302\\work\\src\\learner.cc:1115: Starting in XGBoost 1.3.0, the default evaluation metric used with the objective 'multi:softprob' was changed from 'merror' to 'mlogloss'. Explicitly set eval_metric if you'd like to restore the old behavior.\n"
     ]
    },
    {
     "name": "stderr",
     "output_type": "stream",
     "text": [
      "C:\\Users\\KYLE\\anaconda3\\lib\\site-packages\\xgboost\\sklearn.py:1224: UserWarning: The use of label encoder in XGBClassifier is deprecated and will be removed in a future release. To remove this warning, do the following: 1) Pass option use_label_encoder=False when constructing XGBClassifier object; and 2) Encode your labels (y) as integers starting with 0, i.e. 0, 1, 2, ..., [num_class - 1].\n",
      "  warnings.warn(label_encoder_deprecation_msg, UserWarning)\n"
     ]
    },
    {
     "name": "stdout",
     "output_type": "stream",
     "text": [
      "[11:31:55] WARNING: C:\\Windows\\Temp\\abs_557yfx631l\\croots\\recipe\\xgboost-split_1659548953302\\work\\src\\learner.cc:1115: Starting in XGBoost 1.3.0, the default evaluation metric used with the objective 'multi:softprob' was changed from 'merror' to 'mlogloss'. Explicitly set eval_metric if you'd like to restore the old behavior.\n"
     ]
    },
    {
     "name": "stderr",
     "output_type": "stream",
     "text": [
      "C:\\Users\\KYLE\\anaconda3\\lib\\site-packages\\xgboost\\sklearn.py:1224: UserWarning: The use of label encoder in XGBClassifier is deprecated and will be removed in a future release. To remove this warning, do the following: 1) Pass option use_label_encoder=False when constructing XGBClassifier object; and 2) Encode your labels (y) as integers starting with 0, i.e. 0, 1, 2, ..., [num_class - 1].\n",
      "  warnings.warn(label_encoder_deprecation_msg, UserWarning)\n"
     ]
    },
    {
     "name": "stdout",
     "output_type": "stream",
     "text": [
      "[11:31:58] WARNING: C:\\Windows\\Temp\\abs_557yfx631l\\croots\\recipe\\xgboost-split_1659548953302\\work\\src\\learner.cc:1115: Starting in XGBoost 1.3.0, the default evaluation metric used with the objective 'multi:softprob' was changed from 'merror' to 'mlogloss'. Explicitly set eval_metric if you'd like to restore the old behavior.\n"
     ]
    },
    {
     "name": "stderr",
     "output_type": "stream",
     "text": [
      "C:\\Users\\KYLE\\anaconda3\\lib\\site-packages\\xgboost\\sklearn.py:1224: UserWarning: The use of label encoder in XGBClassifier is deprecated and will be removed in a future release. To remove this warning, do the following: 1) Pass option use_label_encoder=False when constructing XGBClassifier object; and 2) Encode your labels (y) as integers starting with 0, i.e. 0, 1, 2, ..., [num_class - 1].\n",
      "  warnings.warn(label_encoder_deprecation_msg, UserWarning)\n"
     ]
    },
    {
     "name": "stdout",
     "output_type": "stream",
     "text": [
      "[11:32:01] WARNING: C:\\Windows\\Temp\\abs_557yfx631l\\croots\\recipe\\xgboost-split_1659548953302\\work\\src\\learner.cc:1115: Starting in XGBoost 1.3.0, the default evaluation metric used with the objective 'multi:softprob' was changed from 'merror' to 'mlogloss'. Explicitly set eval_metric if you'd like to restore the old behavior.\n"
     ]
    },
    {
     "name": "stderr",
     "output_type": "stream",
     "text": [
      "C:\\Users\\KYLE\\anaconda3\\lib\\site-packages\\xgboost\\sklearn.py:1224: UserWarning: The use of label encoder in XGBClassifier is deprecated and will be removed in a future release. To remove this warning, do the following: 1) Pass option use_label_encoder=False when constructing XGBClassifier object; and 2) Encode your labels (y) as integers starting with 0, i.e. 0, 1, 2, ..., [num_class - 1].\n",
      "  warnings.warn(label_encoder_deprecation_msg, UserWarning)\n"
     ]
    },
    {
     "name": "stdout",
     "output_type": "stream",
     "text": [
      "[11:32:04] WARNING: C:\\Windows\\Temp\\abs_557yfx631l\\croots\\recipe\\xgboost-split_1659548953302\\work\\src\\learner.cc:1115: Starting in XGBoost 1.3.0, the default evaluation metric used with the objective 'multi:softprob' was changed from 'merror' to 'mlogloss'. Explicitly set eval_metric if you'd like to restore the old behavior.\n",
      "rnd: 0.8675986842105262\n",
      " xgb: 0.8555372807017544\n",
      " vote: 0.8621162280701755\n"
     ]
    }
   ],
   "source": [
    "from sklearn.ensemble import VotingClassifier\n",
    "from sklearn.svm import SVC\n",
    "\n",
    "\n",
    "def accuracy_score(y_val,y_pred):\n",
    "    Sum = 0\n",
    "    y_val = y_val.tolist()\n",
    "    y_pred = y_pred.tolist()\n",
    "    for i in range(len(y_pred)):\n",
    "        if y_val[i] == y_pred[i]:\n",
    "            Sum+=1\n",
    "    score = Sum/len(y_pred)\n",
    "    \n",
    "    return score\n",
    "\n",
    "\n",
    "rnd_clf = RandomForestClassifier(random_state=42,n_estimators=400)\n",
    "xgb_clf =  XGBClassifier(random_state=42, n_estimators=400, max_depth = 12,learning_rate =0.15)\n",
    "\n",
    "voting_clf = VotingClassifier(estimators=[('xg', xgb_clf), ('rf', rnd_clf)],voting='hard')\n",
    "scores_1 = cross_val_score(rnd_clf,X_s,y_s,cv = 3,scoring = 'accuracy')\n",
    "scores_2 = cross_val_score(xgb_clf,X_s,y_s,cv = 3,scoring = 'accuracy')\n",
    "scores = cross_val_score(voting_clf,X_s,y_s,cv = 3,scoring = 'accuracy')\n",
    "print(\"rnd: \"+str(scores_1.mean()))\n",
    "print(\" xgb: \"+str(scores_2.mean()))\n",
    "print(\" vote: \"+str(scores.mean()))"
   ]
  },
  {
   "cell_type": "code",
   "execution_count": 22,
   "id": "3cb60f6b-7629-4319-84ac-22e24147ac8c",
   "metadata": {},
   "outputs": [
    {
     "name": "stdout",
     "output_type": "stream",
     "text": [
      "[11:32:07] WARNING: C:\\Windows\\Temp\\abs_557yfx631l\\croots\\recipe\\xgboost-split_1659548953302\\work\\src\\learner.cc:1115: Starting in XGBoost 1.3.0, the default evaluation metric used with the objective 'multi:softprob' was changed from 'merror' to 'mlogloss'. Explicitly set eval_metric if you'd like to restore the old behavior.\n"
     ]
    },
    {
     "name": "stderr",
     "output_type": "stream",
     "text": [
      "C:\\Users\\KYLE\\anaconda3\\lib\\site-packages\\xgboost\\sklearn.py:1224: UserWarning: The use of label encoder in XGBClassifier is deprecated and will be removed in a future release. To remove this warning, do the following: 1) Pass option use_label_encoder=False when constructing XGBClassifier object; and 2) Encode your labels (y) as integers starting with 0, i.e. 0, 1, 2, ..., [num_class - 1].\n",
      "  warnings.warn(label_encoder_deprecation_msg, UserWarning)\n"
     ]
    }
   ],
   "source": [
    "voting_clf.fit(X_s,y_s)\n",
    "y_pred = voting_clf.predict(test)\n",
    "y_pred_pd = pd.DataFrame(data = y_pred, columns = [\"label\"])\n",
    "y_pred_pd = y_pred_pd.astype('int64').reset_index()\n",
    "y_pred_pd\n",
    "y_pred_pd.to_csv(\"e94084032.csv\", index = False)"
   ]
  },
  {
   "cell_type": "code",
   "execution_count": 23,
   "id": "bb75e93b-1c77-4eb7-8cb4-fa68ff9fe1ef",
   "metadata": {},
   "outputs": [],
   "source": [
    "#df = train[train['closing_price'].between(, 101)]"
   ]
  },
  {
   "cell_type": "code",
   "execution_count": 24,
   "id": "090b0f41-775f-470d-a92f-60df87a7c7ce",
   "metadata": {},
   "outputs": [
    {
     "data": {
      "text/plain": [
       "22.491349    289\n",
       "23.875115    276\n",
       "19.879103    123\n",
       "16.358025     55\n",
       "18.818924     33\n",
       "            ... \n",
       "19.673730      1\n",
       "23.767454      1\n",
       "23.058764      1\n",
       "23.007161      1\n",
       "13.714542      1\n",
       "Name: BMI, Length: 2718, dtype: int64"
      ]
     },
     "execution_count": 24,
     "metadata": {},
     "output_type": "execute_result"
    }
   ],
   "source": [
    "train[\"BMI\"].value_counts()"
   ]
  },
  {
   "cell_type": "code",
   "execution_count": 25,
   "id": "a96a0e1a-92a1-4644-82fd-5dd341bffce8",
   "metadata": {},
   "outputs": [],
   "source": [
    "#"
   ]
  },
  {
   "cell_type": "code",
   "execution_count": 26,
   "id": "2d29648c-30a2-47d6-9aa9-cca2d51d951f",
   "metadata": {},
   "outputs": [
    {
     "data": {
      "text/html": [
       "<div>\n",
       "<style scoped>\n",
       "    .dataframe tbody tr th:only-of-type {\n",
       "        vertical-align: middle;\n",
       "    }\n",
       "\n",
       "    .dataframe tbody tr th {\n",
       "        vertical-align: top;\n",
       "    }\n",
       "\n",
       "    .dataframe thead th {\n",
       "        text-align: right;\n",
       "    }\n",
       "</style>\n",
       "<table border=\"1\" class=\"dataframe\">\n",
       "  <thead>\n",
       "    <tr style=\"text-align: right;\">\n",
       "      <th></th>\n",
       "      <th>性別</th>\n",
       "      <th>年齡</th>\n",
       "      <th>BMI</th>\n",
       "      <th>拳擊</th>\n",
       "      <th>器材</th>\n",
       "      <th>有氧</th>\n",
       "      <th>舞蹈</th>\n",
       "      <th>高強度間歇</th>\n",
       "      <th>瑜伽</th>\n",
       "      <th>肌力訓練</th>\n",
       "      <th>燃脂</th>\n",
       "      <th>減脂瘦身</th>\n",
       "      <th>增加肌肉</th>\n",
       "      <th>增強體魄</th>\n",
       "      <th>舒緩壓力</th>\n",
       "    </tr>\n",
       "  </thead>\n",
       "  <tbody>\n",
       "    <tr>\n",
       "      <th>5</th>\n",
       "      <td>1</td>\n",
       "      <td>47.0</td>\n",
       "      <td>22.521372</td>\n",
       "      <td>0</td>\n",
       "      <td>0</td>\n",
       "      <td>1</td>\n",
       "      <td>1</td>\n",
       "      <td>1</td>\n",
       "      <td>1</td>\n",
       "      <td>0</td>\n",
       "      <td>1</td>\n",
       "      <td>1</td>\n",
       "      <td>1</td>\n",
       "      <td>1</td>\n",
       "      <td>1</td>\n",
       "    </tr>\n",
       "    <tr>\n",
       "      <th>10</th>\n",
       "      <td>1</td>\n",
       "      <td>46.0</td>\n",
       "      <td>23.161083</td>\n",
       "      <td>1</td>\n",
       "      <td>1</td>\n",
       "      <td>1</td>\n",
       "      <td>0</td>\n",
       "      <td>1</td>\n",
       "      <td>0</td>\n",
       "      <td>1</td>\n",
       "      <td>1</td>\n",
       "      <td>0</td>\n",
       "      <td>1</td>\n",
       "      <td>0</td>\n",
       "      <td>1</td>\n",
       "    </tr>\n",
       "    <tr>\n",
       "      <th>12</th>\n",
       "      <td>1</td>\n",
       "      <td>43.0</td>\n",
       "      <td>22.053277</td>\n",
       "      <td>0</td>\n",
       "      <td>1</td>\n",
       "      <td>1</td>\n",
       "      <td>1</td>\n",
       "      <td>1</td>\n",
       "      <td>0</td>\n",
       "      <td>0</td>\n",
       "      <td>0</td>\n",
       "      <td>1</td>\n",
       "      <td>1</td>\n",
       "      <td>1</td>\n",
       "      <td>1</td>\n",
       "    </tr>\n",
       "    <tr>\n",
       "      <th>33</th>\n",
       "      <td>1</td>\n",
       "      <td>38.0</td>\n",
       "      <td>19.310658</td>\n",
       "      <td>0</td>\n",
       "      <td>1</td>\n",
       "      <td>1</td>\n",
       "      <td>1</td>\n",
       "      <td>0</td>\n",
       "      <td>0</td>\n",
       "      <td>1</td>\n",
       "      <td>0</td>\n",
       "      <td>1</td>\n",
       "      <td>0</td>\n",
       "      <td>1</td>\n",
       "      <td>1</td>\n",
       "    </tr>\n",
       "    <tr>\n",
       "      <th>43</th>\n",
       "      <td>1</td>\n",
       "      <td>45.0</td>\n",
       "      <td>20.259939</td>\n",
       "      <td>1</td>\n",
       "      <td>1</td>\n",
       "      <td>1</td>\n",
       "      <td>1</td>\n",
       "      <td>1</td>\n",
       "      <td>1</td>\n",
       "      <td>1</td>\n",
       "      <td>1</td>\n",
       "      <td>0</td>\n",
       "      <td>1</td>\n",
       "      <td>0</td>\n",
       "      <td>0</td>\n",
       "    </tr>\n",
       "    <tr>\n",
       "      <th>...</th>\n",
       "      <td>...</td>\n",
       "      <td>...</td>\n",
       "      <td>...</td>\n",
       "      <td>...</td>\n",
       "      <td>...</td>\n",
       "      <td>...</td>\n",
       "      <td>...</td>\n",
       "      <td>...</td>\n",
       "      <td>...</td>\n",
       "      <td>...</td>\n",
       "      <td>...</td>\n",
       "      <td>...</td>\n",
       "      <td>...</td>\n",
       "      <td>...</td>\n",
       "      <td>...</td>\n",
       "    </tr>\n",
       "    <tr>\n",
       "      <th>26391</th>\n",
       "      <td>0</td>\n",
       "      <td>46.0</td>\n",
       "      <td>21.589910</td>\n",
       "      <td>1</td>\n",
       "      <td>1</td>\n",
       "      <td>1</td>\n",
       "      <td>1</td>\n",
       "      <td>0</td>\n",
       "      <td>1</td>\n",
       "      <td>1</td>\n",
       "      <td>1</td>\n",
       "      <td>1</td>\n",
       "      <td>1</td>\n",
       "      <td>0</td>\n",
       "      <td>1</td>\n",
       "    </tr>\n",
       "    <tr>\n",
       "      <th>26403</th>\n",
       "      <td>1</td>\n",
       "      <td>46.0</td>\n",
       "      <td>22.491349</td>\n",
       "      <td>0</td>\n",
       "      <td>0</td>\n",
       "      <td>1</td>\n",
       "      <td>0</td>\n",
       "      <td>1</td>\n",
       "      <td>1</td>\n",
       "      <td>1</td>\n",
       "      <td>1</td>\n",
       "      <td>0</td>\n",
       "      <td>1</td>\n",
       "      <td>1</td>\n",
       "      <td>0</td>\n",
       "    </tr>\n",
       "    <tr>\n",
       "      <th>26411</th>\n",
       "      <td>0</td>\n",
       "      <td>45.0</td>\n",
       "      <td>22.157158</td>\n",
       "      <td>0</td>\n",
       "      <td>1</td>\n",
       "      <td>0</td>\n",
       "      <td>1</td>\n",
       "      <td>1</td>\n",
       "      <td>0</td>\n",
       "      <td>0</td>\n",
       "      <td>1</td>\n",
       "      <td>0</td>\n",
       "      <td>1</td>\n",
       "      <td>1</td>\n",
       "      <td>0</td>\n",
       "    </tr>\n",
       "    <tr>\n",
       "      <th>26414</th>\n",
       "      <td>1</td>\n",
       "      <td>26.0</td>\n",
       "      <td>14.634752</td>\n",
       "      <td>1</td>\n",
       "      <td>0</td>\n",
       "      <td>0</td>\n",
       "      <td>0</td>\n",
       "      <td>0</td>\n",
       "      <td>0</td>\n",
       "      <td>0</td>\n",
       "      <td>0</td>\n",
       "      <td>0</td>\n",
       "      <td>0</td>\n",
       "      <td>0</td>\n",
       "      <td>1</td>\n",
       "    </tr>\n",
       "    <tr>\n",
       "      <th>26416</th>\n",
       "      <td>0</td>\n",
       "      <td>30.0</td>\n",
       "      <td>18.818924</td>\n",
       "      <td>0</td>\n",
       "      <td>1</td>\n",
       "      <td>1</td>\n",
       "      <td>0</td>\n",
       "      <td>1</td>\n",
       "      <td>1</td>\n",
       "      <td>0</td>\n",
       "      <td>1</td>\n",
       "      <td>0</td>\n",
       "      <td>0</td>\n",
       "      <td>1</td>\n",
       "      <td>1</td>\n",
       "    </tr>\n",
       "  </tbody>\n",
       "</table>\n",
       "<p>3425 rows × 15 columns</p>\n",
       "</div>"
      ],
      "text/plain": [
       "       性別    年齡        BMI  拳擊  器材  有氧  舞蹈  高強度間歇  瑜伽  肌力訓練  燃脂  減脂瘦身  增加肌肉  \\\n",
       "5       1  47.0  22.521372   0   0   1   1      1   1     0   1     1     1   \n",
       "10      1  46.0  23.161083   1   1   1   0      1   0     1   1     0     1   \n",
       "12      1  43.0  22.053277   0   1   1   1      1   0     0   0     1     1   \n",
       "33      1  38.0  19.310658   0   1   1   1      0   0     1   0     1     0   \n",
       "43      1  45.0  20.259939   1   1   1   1      1   1     1   1     0     1   \n",
       "...    ..   ...        ...  ..  ..  ..  ..    ...  ..   ...  ..   ...   ...   \n",
       "26391   0  46.0  21.589910   1   1   1   1      0   1     1   1     1     1   \n",
       "26403   1  46.0  22.491349   0   0   1   0      1   1     1   1     0     1   \n",
       "26411   0  45.0  22.157158   0   1   0   1      1   0     0   1     0     1   \n",
       "26414   1  26.0  14.634752   1   0   0   0      0   0     0   0     0     0   \n",
       "26416   0  30.0  18.818924   0   1   1   0      1   1     0   1     0     0   \n",
       "\n",
       "       增強體魄  舒緩壓力  \n",
       "5         1     1  \n",
       "10        0     1  \n",
       "12        1     1  \n",
       "33        1     1  \n",
       "43        0     0  \n",
       "...     ...   ...  \n",
       "26391     0     1  \n",
       "26403     1     0  \n",
       "26411     1     0  \n",
       "26414     0     1  \n",
       "26416     1     1  \n",
       "\n",
       "[3425 rows x 15 columns]"
      ]
     },
     "execution_count": 26,
     "metadata": {},
     "output_type": "execute_result"
    }
   ],
   "source": [
    "X"
   ]
  },
  {
   "cell_type": "code",
   "execution_count": 27,
   "id": "f5398ddc-a90a-4477-930d-2c5da88cc124",
   "metadata": {},
   "outputs": [
    {
     "data": {
      "text/plain": [
       "<AxesSubplot:>"
      ]
     },
     "execution_count": 27,
     "metadata": {},
     "output_type": "execute_result"
    },
    {
     "data": {
      "image/png": "[encoded data removed]",
      "text/plain": [
       "<Figure size 432x288 with 1 Axes>"
      ]
     },
     "metadata": {
      "needs_background": "light"
     },
     "output_type": "display_data"
    }
   ],
   "source": [
    "y.hist()"
   ]
  },
  {
   "cell_type": "code",
   "execution_count": 29,
   "id": "c8f95816-b093-4c54-b368-b80bc98da8f6",
   "metadata": {},
   "outputs": [],
   "source": [
    "from imblearn.over_sampling import ADASYN\n",
    "ada = ADASYN()\n",
    "X_resampled, y_resampled = ada.fit_resample(X, y)\n"
   ]
  },
  {
   "cell_type": "code",
   "execution_count": 32,
   "id": "11ba21cb-2730-4b73-a9af-05093b7b6292",
   "metadata": {},
   "outputs": [
    {
     "data": {
      "text/plain": [
       "3    1211\n",
       "2    1206\n",
       "0    1178\n",
       "1    1165\n",
       "Name: 推薦類型, dtype: int64"
      ]
     },
     "execution_count": 32,
     "metadata": {},
     "output_type": "execute_result"
    }
   ],
   "source": [
    "y_resampled.value_counts()"
   ]
  },
  {
   "cell_type": "code",
   "execution_count": 34,
   "id": "13ccf3a4-4f1b-484a-814f-dade9d700769",
   "metadata": {},
   "outputs": [],
   "source": [
    "from sklearn.ensemble import RandomForestClassifier\n",
    "X_train, X_val, y_train, y_val = train_test_split(\n",
    "   X_resampled, y_resampled, test_size=0.33, random_state=42)"
   ]
  },
  {
   "cell_type": "code",
   "execution_count": 37,
   "id": "2cab3b81-398b-4bd1-8d3f-aeeca16b10c1",
   "metadata": {},
   "outputs": [
    {
     "data": {
      "text/plain": [
       "0.8421387651177594"
      ]
     },
     "execution_count": 37,
     "metadata": {},
     "output_type": "execute_result"
    }
   ],
   "source": [
    "randomForestModel = RandomForestClassifier(random_state = 42, n_estimators= 400)\n",
    "randomForestModel.fit(X_train,y_train)\n",
    "randomForestModel.score(X_val,y_val)"
   ]
  },
  {
   "cell_type": "code",
   "execution_count": 39,
   "id": "a8ad8d28-d63a-4356-a3d7-b12ed0a65f4d",
   "metadata": {},
   "outputs": [],
   "source": [
    "####79.8\n",
    "randomForestModel.fit(X_resampled,y_resampled)\n",
    "y_pred = randomForestModel.predict(test)\n",
    "y_pred_pd = pd.DataFrame(data = y_pred, columns = [\"label\"])\n",
    "y_pred_pd = y_pred_pd.astype('int64').reset_index()\n",
    "y_pred_pd\n",
    "y_pred_pd.to_csv(\"e94084032.csv\", index = False)"
   ]
  },
  {
   "cell_type": "code",
   "execution_count": 40,
   "id": "31180b9f-45f1-47b6-a3a1-1d35cdb63869",
   "metadata": {},
   "outputs": [],
   "source": [
    "###79.8"
   ]
  },
  {
   "cell_type": "code",
   "execution_count": 41,
   "id": "22942657-76b5-4ccd-b3a1-f5fb80fa4f15",
   "metadata": {},
   "outputs": [
    {
     "data": {
      "text/plain": [
       "<AxesSubplot:>"
      ]
     },
     "execution_count": 41,
     "metadata": {},
     "output_type": "execute_result"
    },
    {
     "data": {
      "image/png": "[encoded data removed]",
      "text/plain": [
       "<Figure size 432x288 with 1 Axes>"
      ]
     },
     "metadata": {
      "needs_background": "light"
     },
     "output_type": "display_data"
    }
   ],
   "source": [
    "from imblearn.over_sampling import ADASYN\n",
    "X_s, y_s = TomekLinks().fit_resample(X, y)\n",
    "X_resampled, y_resampled =  ADASYN().fit_resample(X_s, y_s)\n",
    "y_resampled.hist()"
   ]
  },
  {
   "cell_type": "code",
   "execution_count": 42,
   "id": "31035774-6f8d-435a-bf08-e50b75018776",
   "metadata": {},
   "outputs": [],
   "source": [
    "from sklearn.ensemble import RandomForestClassifier\n",
    "X_train, X_val, y_train, y_val = train_test_split(\n",
    "   X_resampled, y_resampled, test_size=0.33, random_state=42)"
   ]
  },
  {
   "cell_type": "code",
   "execution_count": 43,
   "id": "f96d4cbc-a5d7-49af-ab37-c0d4af43f720",
   "metadata": {},
   "outputs": [
    {
     "data": {
      "text/plain": [
       "0.8596491228070176"
      ]
     },
     "execution_count": 43,
     "metadata": {},
     "output_type": "execute_result"
    }
   ],
   "source": [
    "randomForestModel = RandomForestClassifier(random_state = 42, n_estimators= 400)\n",
    "randomForestModel.fit(X_train,y_train)\n",
    "randomForestModel.score(X_val,y_val)"
   ]
  },
  {
   "cell_type": "code",
   "execution_count": 44,
   "id": "90e98042-4a0a-4625-a977-9d9c0a3bf884",
   "metadata": {},
   "outputs": [],
   "source": [
    "randomForestModel.fit(X_resampled,y_resampled)\n",
    "y_pred = randomForestModel.predict(test)\n",
    "y_pred_pd = pd.DataFrame(data = y_pred, columns = [\"label\"])\n",
    "y_pred_pd = y_pred_pd.astype('int64').reset_index()\n",
    "y_pred_pd\n",
    "y_pred_pd.to_csv(\"e94084032.csv\", index = False)"
   ]
  },
  {
   "cell_type": "code",
   "execution_count": 45,
   "id": "ff3555f8-6c63-4bc1-8386-70b466436202",
   "metadata": {},
   "outputs": [],
   "source": [
    "##79.6"
   ]
  },
  {
   "cell_type": "code",
   "execution_count": 55,
   "id": "cb935523-ea7a-448f-997d-df94a798eb9e",
   "metadata": {},
   "outputs": [
    {
     "data": {
      "text/plain": [
       "<AxesSubplot:>"
      ]
     },
     "execution_count": 55,
     "metadata": {},
     "output_type": "execute_result"
    },
    {
     "data": {
      "image/png": "[encoded data removed]",
      "text/plain": [
       "<Figure size 432x288 with 1 Axes>"
      ]
     },
     "metadata": {
      "needs_background": "light"
     },
     "output_type": "display_data"
    }
   ],
   "source": [
    "from imblearn.over_sampling import BorderlineSMOTE\n",
    "X_s, y_s = TomekLinks().fit_resample(X, y)\n",
    "X_resampled, y_resampled = BorderlineSMOTE(random_state = 0).fit_resample(X_s, y_s)\n",
    "y_resampled.hist()"
   ]
  },
  {
   "cell_type": "code",
   "execution_count": 56,
   "id": "b2ddab28-ba26-4230-94cc-5c62429100b2",
   "metadata": {},
   "outputs": [
    {
     "data": {
      "text/plain": [
       "0.8753405994550408"
      ]
     },
     "execution_count": 56,
     "metadata": {},
     "output_type": "execute_result"
    }
   ],
   "source": [
    "from sklearn.ensemble import RandomForestClassifier\n",
    "X_train, X_val, y_train, y_val = train_test_split(\n",
    "   X_resampled, y_resampled, test_size=0.33, random_state=42)\n",
    "randomForestModel = RandomForestClassifier(random_state = 42, n_estimators= 400)\n",
    "randomForestModel.fit(X_train,y_train)\n",
    "randomForestModel.score(X_val,y_val)"
   ]
  },
  {
   "cell_type": "code",
   "execution_count": 58,
   "id": "1e4ce66b-40fd-4552-a9aa-35aa11e399e2",
   "metadata": {},
   "outputs": [],
   "source": [
    "randomForestModel.fit(X_resampled,y_resampled)\n",
    "y_pred = randomForestModel.predict(test)\n",
    "y_pred_pd = pd.DataFrame(data = y_pred, columns = [\"label\"])\n",
    "y_pred_pd = y_pred_pd.astype('int64').reset_index()\n",
    "y_pred_pd\n",
    "y_pred_pd.to_csv(\"e94084032.csv\", index = False)"
   ]
  },
  {
   "cell_type": "code",
   "execution_count": 53,
   "id": "2bdd062f-0bbf-44f1-a762-411e34544723",
   "metadata": {},
   "outputs": [],
   "source": [
    "##79"
   ]
  },
  {
   "cell_type": "code",
   "execution_count": 59,
   "id": "652c3e84-18c6-4ff1-92b5-6110c23f1c5d",
   "metadata": {},
   "outputs": [],
   "source": [
    "from imblearn.under_sampling import AllKNN\n",
    "allknn = AllKNN()\n",
    "X_s, y_s = allknn.fit_resample(X, y)\n",
    "X_resampled, y_resampled = SMOTE().fit_resample(X_s,y_s)"
   ]
  },
  {
   "cell_type": "code",
   "execution_count": 60,
   "id": "34b9ae0a-2f7c-4e22-b4d1-11a6ad9ed598",
   "metadata": {},
   "outputs": [
    {
     "data": {
      "text/plain": [
       "0.9824561403508771"
      ]
     },
     "execution_count": 60,
     "metadata": {},
     "output_type": "execute_result"
    }
   ],
   "source": [
    "from sklearn.ensemble import RandomForestClassifier\n",
    "X_train, X_val, y_train, y_val = train_test_split(\n",
    "   X_resampled, y_resampled, test_size=0.33, random_state=42)\n",
    "randomForestModel = RandomForestClassifier(random_state = 42, n_estimators= 400)\n",
    "randomForestModel.fit(X_train,y_train)\n",
    "randomForestModel.score(X_val,y_val)"
   ]
  },
  {
   "cell_type": "code",
   "execution_count": 61,
   "id": "a3bb7b00-430c-43f8-b177-83a928aae598",
   "metadata": {},
   "outputs": [],
   "source": [
    "randomForestModel.fit(X_resampled,y_resampled)\n",
    "y_pred = randomForestModel.predict(test)\n",
    "y_pred_pd = pd.DataFrame(data = y_pred, columns = [\"label\"])\n",
    "y_pred_pd = y_pred_pd.astype('int64').reset_index()\n",
    "y_pred_pd\n",
    "y_pred_pd.to_csv(\"e94084032.csv\", index = False)"
   ]
  },
  {
   "cell_type": "code",
   "execution_count": 62,
   "id": "64f69aec-0a72-4a21-af58-dad49ea5a461",
   "metadata": {},
   "outputs": [],
   "source": [
    "from imblearn.over_sampling import SMOTE\n",
    "from imblearn.under_sampling import TomekLinks\n",
    "X_s, y_s = TomekLinks(sampling_strategy = 'all').fit_resample(X, y)\n",
    "X_s, y_s = SMOTE(random_state = 0).fit_resample(X_s,y_s)"
   ]
  },
  {
   "cell_type": "code",
   "execution_count": 63,
   "id": "6703806e-8e32-4e38-b789-0e797efd386f",
   "metadata": {},
   "outputs": [
    {
     "data": {
      "text/plain": [
       "0.8821525885558583"
      ]
     },
     "execution_count": 63,
     "metadata": {},
     "output_type": "execute_result"
    }
   ],
   "source": [
    "from sklearn.ensemble import RandomForestClassifier\n",
    "X_train, X_val, y_train, y_val = train_test_split(\n",
    "   X_s, y_s, test_size=0.33, random_state=42)\n",
    "randomForestModel = RandomForestClassifier(random_state = 42, n_estimators= 400)\n",
    "randomForestModel.fit(X_train,y_train)\n",
    "randomForestModel.score(X_val,y_val)"
   ]
  },
  {
   "cell_type": "code",
   "execution_count": 64,
   "id": "e4bf1e8a-4a5c-4d6e-9207-c929cf5b2e90",
   "metadata": {},
   "outputs": [],
   "source": [
    "randomForestModel.fit(X_s,y_s)\n",
    "y_pred = randomForestModel.predict(test)\n",
    "y_pred_pd = pd.DataFrame(data = y_pred, columns = [\"label\"])\n",
    "y_pred_pd = y_pred_pd.astype('int64').reset_index()\n",
    "y_pred_pd\n",
    "y_pred_pd.to_csv(\"e94084032.csv\", index = False)"
   ]
  },
  {
   "cell_type": "code",
   "execution_count": 65,
   "id": "8ff8b875-3f47-4a1c-be4c-f5ca96893a59",
   "metadata": {},
   "outputs": [],
   "source": [
    "######Tomek + SMOTE Best"
   ]
  },
  {
   "cell_type": "code",
   "execution_count": null,
   "id": "9896135b-bf66-4930-9451-b4210fb56958",
   "metadata": {},
   "outputs": [],
   "source": []
  }
 ],
 "metadata": {
  "kernelspec": {
   "display_name": "Python 3 (ipykernel)",
   "language": "python",
   "name": "python3"
  },
  "language_info": {
   "codemirror_mode": {
    "name": "ipython",
    "version": 3
   },
   "file_extension": ".py",
   "mimetype": "text/x-python",
   "name": "python",
   "nbconvert_exporter": "python",
   "pygments_lexer": "ipython3",
   "version": "3.9.13"
  }
 },
 "nbformat": 4,
 "nbformat_minor": 5
}
