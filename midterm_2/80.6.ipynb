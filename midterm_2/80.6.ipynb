{
 "cells": [
  {
   "cell_type": "code",
   "execution_count": 1,
   "id": "a263d276-49b3-4d8c-9689-2319483363f9",
   "metadata": {
    "tags": []
   },
   "outputs": [],
   "source": [
    "import pandas as pd\n",
    "import numpy as np\n",
    "import matplotlib.pyplot as plt\n",
    "from xgboost import XGBClassifier\n",
    "from sklearn.model_selection import cross_val_score\n",
    "import xgboost as xgb\n",
    "from sklearn.model_selection import train_test_split,GridSearchCV"
   ]
  },
  {
   "cell_type": "code",
   "execution_count": 2,
   "id": "b15e30c6-6f90-40e9-b992-728b87af4950",
   "metadata": {},
   "outputs": [],
   "source": [
    "train = pd.read_csv(\"train.csv\")\n",
    "test = pd.read_csv(\"test.csv\")\n",
    "sS = pd.read_csv(\"sampleSubmission.csv\")"
   ]
  },
  {
   "cell_type": "code",
   "execution_count": 3,
   "id": "2c85e7c9-10c8-4141-8819-b4d06cc0abd7",
   "metadata": {},
   "outputs": [],
   "source": [
    "select_label = [0, 1, 2, 3]\n",
    "select_habits = [0., 1.]"
   ]
  },
  {
   "cell_type": "code",
   "execution_count": 4,
   "id": "5e68eabc-d7bb-420b-a54b-ce254698f090",
   "metadata": {},
   "outputs": [],
   "source": [
    "train['推薦類型'].replace(['肌力',\"柔軟度\",\"心肺\",\"肌耐力\"],[0,1,2,3] , inplace = True)"
   ]
  },
  {
   "cell_type": "code",
   "execution_count": 5,
   "id": "9765fbd4-3c98-446f-b10a-ba8738950855",
   "metadata": {},
   "outputs": [],
   "source": [
    "train = train[train['推薦類型'].isin(select_label)]"
   ]
  },
  {
   "cell_type": "code",
   "execution_count": 6,
   "id": "5296df3d-9f58-41da-9578-8e62cc3b44e2",
   "metadata": {},
   "outputs": [],
   "source": [
    "train = train[train['拳擊'].isin(select_habits)]\n",
    "train = train[train['器材'].isin(select_habits)]\n",
    "train = train[train['有氧'].isin(select_habits)]\n",
    "train = train[train['舞蹈'].isin(select_habits)]\n",
    "train = train[train['高強度間歇'].isin(select_habits)]\n",
    "train = train[train['瑜伽'].isin(select_habits)]\n",
    "train = train[train['肌力訓練'].isin(select_habits)]\n",
    "train = train[train['燃脂'].isin(select_habits)]\n",
    "train = train[train['減脂瘦身'].isin(select_habits)]\n",
    "train = train[train['增加肌肉'].isin(select_habits)]\n",
    "train = train[train['增強體魄'].isin(select_habits)]\n",
    "train = train[train['舒緩壓力'].isin(select_habits)]"
   ]
  },
  {
   "cell_type": "code",
   "execution_count": 7,
   "id": "6e853b05-2aea-4845-903f-81815dfea21e",
   "metadata": {},
   "outputs": [],
   "source": [
    "train = train[train['年齡']<70]"
   ]
  },
  {
   "cell_type": "code",
   "execution_count": 8,
   "id": "f62adf11-c099-47eb-bebc-68ae165fe5e9",
   "metadata": {},
   "outputs": [],
   "source": [
    "train = train[train['BMI']>10]"
   ]
  },
  {
   "cell_type": "code",
   "execution_count": 9,
   "id": "ab244c48-f21a-49a3-881e-21330f5df1c0",
   "metadata": {},
   "outputs": [
    {
     "name": "stdout",
     "output_type": "stream",
     "text": [
      "<class 'pandas.core.frame.DataFrame'>\n",
      "Int64Index: 3425 entries, 5 to 26416\n",
      "Data columns (total 16 columns):\n",
      " #   Column  Non-Null Count  Dtype  \n",
      "---  ------  --------------  -----  \n",
      " 0   性別      3425 non-null   float64\n",
      " 1   年齡      3425 non-null   float64\n",
      " 2   BMI     3425 non-null   float64\n",
      " 3   拳擊      3425 non-null   float64\n",
      " 4   器材      3425 non-null   float64\n",
      " 5   有氧      3425 non-null   float64\n",
      " 6   舞蹈      3425 non-null   float64\n",
      " 7   高強度間歇   3425 non-null   float64\n",
      " 8   瑜伽      3425 non-null   float64\n",
      " 9   肌力訓練    3425 non-null   float64\n",
      " 10  燃脂      3425 non-null   float64\n",
      " 11  減脂瘦身    3425 non-null   float64\n",
      " 12  增加肌肉    3425 non-null   float64\n",
      " 13  增強體魄    3425 non-null   float64\n",
      " 14  舒緩壓力    3425 non-null   float64\n",
      " 15  推薦類型    3425 non-null   object \n",
      "dtypes: float64(15), object(1)\n",
      "memory usage: 454.9+ KB\n"
     ]
    }
   ],
   "source": [
    "train.info()"
   ]
  },
  {
   "cell_type": "code",
   "execution_count": 10,
   "id": "b6b3718d-622a-414e-869e-b021fc048cae",
   "metadata": {},
   "outputs": [],
   "source": [
    "train['推薦類型'] = train['推薦類型'].astype(\"int64\")"
   ]
  },
  {
   "cell_type": "code",
   "execution_count": 11,
   "id": "f1b94404-2aaa-4a17-8005-948138daad09",
   "metadata": {},
   "outputs": [
    {
     "name": "stdout",
     "output_type": "stream",
     "text": [
      "<class 'pandas.core.frame.DataFrame'>\n",
      "Int64Index: 3425 entries, 5 to 26416\n",
      "Data columns (total 16 columns):\n",
      " #   Column  Non-Null Count  Dtype  \n",
      "---  ------  --------------  -----  \n",
      " 0   性別      3425 non-null   float64\n",
      " 1   年齡      3425 non-null   float64\n",
      " 2   BMI     3425 non-null   float64\n",
      " 3   拳擊      3425 non-null   float64\n",
      " 4   器材      3425 non-null   float64\n",
      " 5   有氧      3425 non-null   float64\n",
      " 6   舞蹈      3425 non-null   float64\n",
      " 7   高強度間歇   3425 non-null   float64\n",
      " 8   瑜伽      3425 non-null   float64\n",
      " 9   肌力訓練    3425 non-null   float64\n",
      " 10  燃脂      3425 non-null   float64\n",
      " 11  減脂瘦身    3425 non-null   float64\n",
      " 12  增加肌肉    3425 non-null   float64\n",
      " 13  增強體魄    3425 non-null   float64\n",
      " 14  舒緩壓力    3425 non-null   float64\n",
      " 15  推薦類型    3425 non-null   int64  \n",
      "dtypes: float64(15), int64(1)\n",
      "memory usage: 454.9 KB\n"
     ]
    }
   ],
   "source": [
    "train.info()"
   ]
  },
  {
   "cell_type": "code",
   "execution_count": 12,
   "id": "f054e358-0bd5-43f6-ba13-47ef8572bc95",
   "metadata": {},
   "outputs": [],
   "source": [
    "X = train.drop([\"推薦類型\"], axis =1)\n",
    "y = train[\"推薦類型\"]"
   ]
  },
  {
   "cell_type": "code",
   "execution_count": 13,
   "id": "bfe3f4d3-7eb3-41a1-90b0-6c20ce6f20c7",
   "metadata": {},
   "outputs": [],
   "source": [
    "from xgboost import XGBClassifier\n",
    "from sklearn.model_selection import cross_val_score\n",
    "import xgboost as xgb\n",
    "from sklearn.model_selection import train_test_split,GridSearchCV"
   ]
  },
  {
   "cell_type": "code",
   "execution_count": null,
   "id": "624dbd2a-13ef-410a-a499-fc4b6e31289e",
   "metadata": {},
   "outputs": [],
   "source": []
  },
  {
   "cell_type": "code",
   "execution_count": 14,
   "id": "b4d4182e-48a6-4897-9e9e-6cc5d8faa050",
   "metadata": {},
   "outputs": [
    {
     "data": {
      "text/plain": [
       "0    744\n",
       "1    744\n",
       "2    744\n",
       "3    744\n",
       "Name: 推薦類型, dtype: int64"
      ]
     },
     "execution_count": 14,
     "metadata": {},
     "output_type": "execute_result"
    },
    {
     "data": {
      "image/png": "[encoded data removed]",
      "text/plain": [
       "<Figure size 432x288 with 1 Axes>"
      ]
     },
     "metadata": {
      "needs_background": "light"
     },
     "output_type": "display_data"
    }
   ],
   "source": [
    "from imblearn.over_sampling import SMOTE\n",
    "from imblearn.under_sampling import TomekLinks\n",
    "from imblearn.under_sampling import EditedNearestNeighbours\n",
    "#X_s, y_s =  EditedNearestNeighbours().fit_resample(X, y)\n",
    "X_s, y_s =  TomekLinks().fit_resample(X, y)\n",
    "X_s, y_s = SMOTE(random_state = 0).fit_resample(X_s,y_s)\n",
    "\n",
    "\n",
    "y_s.hist()\n",
    "y_s.value_counts()"
   ]
  },
  {
   "cell_type": "code",
   "execution_count": 15,
   "id": "4cec3229-14b6-4484-b30e-150aa1cfe250",
   "metadata": {},
   "outputs": [],
   "source": [
    "from sklearn.ensemble import RandomForestClassifier\n",
    "X_train, X_val, y_train, y_val = train_test_split(\n",
    "   X_s, y_s, test_size=0.33, random_state=42)"
   ]
  },
  {
   "cell_type": "code",
   "execution_count": 16,
   "id": "617b2966-4697-4564-8b93-3b296891134f",
   "metadata": {},
   "outputs": [],
   "source": [
    "randomForestModel = RandomForestClassifier(random_state = 42, n_estimators= 400)\n",
    "#scores = cross_val_score(randomForestModel,X_s,y_s,cv = 7,scoring = 'accuracy')\n",
    "#scores.mean()"
   ]
  },
  {
   "cell_type": "code",
   "execution_count": 17,
   "id": "30ffa3b2-28b1-41f1-9f05-7b956471a320",
   "metadata": {},
   "outputs": [
    {
     "data": {
      "text/plain": [
       "0.9684638860630722"
      ]
     },
     "execution_count": 17,
     "metadata": {},
     "output_type": "execute_result"
    }
   ],
   "source": [
    "randomForestModel.fit(X_train,y_train)\n",
    "randomForestModel.score(X_val,y_val)"
   ]
  },
  {
   "cell_type": "code",
   "execution_count": 18,
   "id": "c6d3513f-42c8-4a06-8be0-0fb9d27215b1",
   "metadata": {},
   "outputs": [
    {
     "name": "stderr",
     "output_type": "stream",
     "text": [
      "C:\\Users\\KYLE\\anaconda3\\lib\\site-packages\\xgboost\\sklearn.py:1224: UserWarning: The use of label encoder in XGBClassifier is deprecated and will be removed in a future release. To remove this warning, do the following: 1) Pass option use_label_encoder=False when constructing XGBClassifier object; and 2) Encode your labels (y) as integers starting with 0, i.e. 0, 1, 2, ..., [num_class - 1].\n",
      "  warnings.warn(label_encoder_deprecation_msg, UserWarning)\n"
     ]
    },
    {
     "name": "stdout",
     "output_type": "stream",
     "text": [
      "[12:23:39] WARNING: C:\\Windows\\Temp\\abs_557yfx631l\\croots\\recipe\\xgboost-split_1659548953302\\work\\src\\learner.cc:1115: Starting in XGBoost 1.3.0, the default evaluation metric used with the objective 'multi:softprob' was changed from 'merror' to 'mlogloss'. Explicitly set eval_metric if you'd like to restore the old behavior.\n"
     ]
    },
    {
     "name": "stderr",
     "output_type": "stream",
     "text": [
      "C:\\Users\\KYLE\\anaconda3\\lib\\site-packages\\xgboost\\sklearn.py:1224: UserWarning: The use of label encoder in XGBClassifier is deprecated and will be removed in a future release. To remove this warning, do the following: 1) Pass option use_label_encoder=False when constructing XGBClassifier object; and 2) Encode your labels (y) as integers starting with 0, i.e. 0, 1, 2, ..., [num_class - 1].\n",
      "  warnings.warn(label_encoder_deprecation_msg, UserWarning)\n"
     ]
    },
    {
     "name": "stdout",
     "output_type": "stream",
     "text": [
      "[12:23:40] WARNING: C:\\Windows\\Temp\\abs_557yfx631l\\croots\\recipe\\xgboost-split_1659548953302\\work\\src\\learner.cc:1115: Starting in XGBoost 1.3.0, the default evaluation metric used with the objective 'multi:softprob' was changed from 'merror' to 'mlogloss'. Explicitly set eval_metric if you'd like to restore the old behavior.\n"
     ]
    },
    {
     "name": "stderr",
     "output_type": "stream",
     "text": [
      "C:\\Users\\KYLE\\anaconda3\\lib\\site-packages\\xgboost\\sklearn.py:1224: UserWarning: The use of label encoder in XGBClassifier is deprecated and will be removed in a future release. To remove this warning, do the following: 1) Pass option use_label_encoder=False when constructing XGBClassifier object; and 2) Encode your labels (y) as integers starting with 0, i.e. 0, 1, 2, ..., [num_class - 1].\n",
      "  warnings.warn(label_encoder_deprecation_msg, UserWarning)\n"
     ]
    },
    {
     "name": "stdout",
     "output_type": "stream",
     "text": [
      "[12:23:41] WARNING: C:\\Windows\\Temp\\abs_557yfx631l\\croots\\recipe\\xgboost-split_1659548953302\\work\\src\\learner.cc:1115: Starting in XGBoost 1.3.0, the default evaluation metric used with the objective 'multi:softprob' was changed from 'merror' to 'mlogloss'. Explicitly set eval_metric if you'd like to restore the old behavior.\n"
     ]
    },
    {
     "name": "stderr",
     "output_type": "stream",
     "text": [
      "C:\\Users\\KYLE\\anaconda3\\lib\\site-packages\\xgboost\\sklearn.py:1224: UserWarning: The use of label encoder in XGBClassifier is deprecated and will be removed in a future release. To remove this warning, do the following: 1) Pass option use_label_encoder=False when constructing XGBClassifier object; and 2) Encode your labels (y) as integers starting with 0, i.e. 0, 1, 2, ..., [num_class - 1].\n",
      "  warnings.warn(label_encoder_deprecation_msg, UserWarning)\n"
     ]
    },
    {
     "name": "stdout",
     "output_type": "stream",
     "text": [
      "[12:23:42] WARNING: C:\\Windows\\Temp\\abs_557yfx631l\\croots\\recipe\\xgboost-split_1659548953302\\work\\src\\learner.cc:1115: Starting in XGBoost 1.3.0, the default evaluation metric used with the objective 'multi:softprob' was changed from 'merror' to 'mlogloss'. Explicitly set eval_metric if you'd like to restore the old behavior.\n"
     ]
    },
    {
     "name": "stderr",
     "output_type": "stream",
     "text": [
      "C:\\Users\\KYLE\\anaconda3\\lib\\site-packages\\xgboost\\sklearn.py:1224: UserWarning: The use of label encoder in XGBClassifier is deprecated and will be removed in a future release. To remove this warning, do the following: 1) Pass option use_label_encoder=False when constructing XGBClassifier object; and 2) Encode your labels (y) as integers starting with 0, i.e. 0, 1, 2, ..., [num_class - 1].\n",
      "  warnings.warn(label_encoder_deprecation_msg, UserWarning)\n"
     ]
    },
    {
     "name": "stdout",
     "output_type": "stream",
     "text": [
      "[12:23:43] WARNING: C:\\Windows\\Temp\\abs_557yfx631l\\croots\\recipe\\xgboost-split_1659548953302\\work\\src\\learner.cc:1115: Starting in XGBoost 1.3.0, the default evaluation metric used with the objective 'multi:softprob' was changed from 'merror' to 'mlogloss'. Explicitly set eval_metric if you'd like to restore the old behavior.\n"
     ]
    },
    {
     "name": "stderr",
     "output_type": "stream",
     "text": [
      "C:\\Users\\KYLE\\anaconda3\\lib\\site-packages\\xgboost\\sklearn.py:1224: UserWarning: The use of label encoder in XGBClassifier is deprecated and will be removed in a future release. To remove this warning, do the following: 1) Pass option use_label_encoder=False when constructing XGBClassifier object; and 2) Encode your labels (y) as integers starting with 0, i.e. 0, 1, 2, ..., [num_class - 1].\n",
      "  warnings.warn(label_encoder_deprecation_msg, UserWarning)\n"
     ]
    },
    {
     "name": "stdout",
     "output_type": "stream",
     "text": [
      "[12:23:45] WARNING: C:\\Windows\\Temp\\abs_557yfx631l\\croots\\recipe\\xgboost-split_1659548953302\\work\\src\\learner.cc:1115: Starting in XGBoost 1.3.0, the default evaluation metric used with the objective 'multi:softprob' was changed from 'merror' to 'mlogloss'. Explicitly set eval_metric if you'd like to restore the old behavior.\n",
      "rnd: 0.9623655913978495\n",
      " xgb: 0.9596774193548386\n",
      " vote: 0.9630376344086021\n"
     ]
    }
   ],
   "source": [
    "from sklearn.ensemble import VotingClassifier\n",
    "from sklearn.svm import SVC\n",
    "\n",
    "\n",
    "def accuracy_score(y_val,y_pred):\n",
    "    Sum = 0\n",
    "    y_val = y_val.tolist()\n",
    "    y_pred = y_pred.tolist()\n",
    "    for i in range(len(y_pred)):\n",
    "        if y_val[i] == y_pred[i]:\n",
    "            Sum+=1\n",
    "    score = Sum/len(y_pred)\n",
    "    \n",
    "    return score\n",
    "\n",
    "\n",
    "rnd_clf = RandomForestClassifier(random_state=42,n_estimators=400)\n",
    "xgb_clf =  XGBClassifier(random_state=42, n_estimators=400, max_depth = 12,learning_rate =0.15)\n",
    "\n",
    "voting_clf = VotingClassifier(estimators=[('xg', xgb_clf), ('rf', rnd_clf)],voting='hard')\n",
    "scores_1 = cross_val_score(rnd_clf,X_s,y_s,cv = 3,scoring = 'accuracy')\n",
    "scores_2 = cross_val_score(xgb_clf,X_s,y_s,cv = 3,scoring = 'accuracy')\n",
    "scores = cross_val_score(voting_clf,X_s,y_s,cv = 3,scoring = 'accuracy')\n",
    "print(\"rnd: \"+str(scores_1.mean()))\n",
    "print(\" xgb: \"+str(scores_2.mean()))\n",
    "print(\" vote: \"+str(scores.mean()))"
   ]
  },
  {
   "cell_type": "code",
   "execution_count": 19,
   "id": "17fffb36-901a-466f-b902-b5df5851cea4",
   "metadata": {},
   "outputs": [],
   "source": [
    "randomForestModel.fit(X_s,y_s)\n",
    "y_pred = randomForestModel.predict(test)\n",
    "y_pred_pd = pd.DataFrame(data = y_pred, columns = [\"label\"])\n",
    "y_pred_pd = y_pred_pd.astype('int64').reset_index()\n",
    "y_pred_pd\n",
    "y_pred_pd.to_csv(\"e94084032.csv\", index = False)"
   ]
  },
  {
   "cell_type": "code",
   "execution_count": null,
   "id": "9faaeef8-725c-4733-bbfe-e6dd501d403d",
   "metadata": {},
   "outputs": [],
   "source": []
  },
  {
   "cell_type": "code",
   "execution_count": 20,
   "id": "990b2a2c-13d8-4e47-8262-6f5bda70f7ed",
   "metadata": {},
   "outputs": [],
   "source": [
    "train = pd.concat([X_s,y_s], axis =1, join = 'outer')\n",
    "train = train[train['拳擊'].isin(select_habits)]\n",
    "train = train[train['器材'].isin(select_habits)]\n",
    "train = train[train['有氧'].isin(select_habits)]\n",
    "train = train[train['舞蹈'].isin(select_habits)]\n",
    "train = train[train['高強度間歇'].isin(select_habits)]\n",
    "train = train[train['瑜伽'].isin(select_habits)]\n",
    "train = train[train['肌力訓練'].isin(select_habits)]\n",
    "train = train[train['燃脂'].isin(select_habits)]\n",
    "train = train[train['減脂瘦身'].isin(select_habits)]\n",
    "train = train[train['增加肌肉'].isin(select_habits)]\n",
    "train = train[train['增強體魄'].isin(select_habits)]\n",
    "train = train[train['舒緩壓力'].isin(select_habits)]"
   ]
  },
  {
   "cell_type": "code",
   "execution_count": 21,
   "id": "80b4c249-da37-47fb-9956-47f6ac7aed6b",
   "metadata": {},
   "outputs": [
    {
     "data": {
      "text/html": [
       "<div>\n",
       "<style scoped>\n",
       "    .dataframe tbody tr th:only-of-type {\n",
       "        vertical-align: middle;\n",
       "    }\n",
       "\n",
       "    .dataframe tbody tr th {\n",
       "        vertical-align: top;\n",
       "    }\n",
       "\n",
       "    .dataframe thead th {\n",
       "        text-align: right;\n",
       "    }\n",
       "</style>\n",
       "<table border=\"1\" class=\"dataframe\">\n",
       "  <thead>\n",
       "    <tr style=\"text-align: right;\">\n",
       "      <th></th>\n",
       "      <th>性別</th>\n",
       "      <th>年齡</th>\n",
       "      <th>BMI</th>\n",
       "      <th>拳擊</th>\n",
       "      <th>器材</th>\n",
       "      <th>有氧</th>\n",
       "      <th>舞蹈</th>\n",
       "      <th>高強度間歇</th>\n",
       "      <th>瑜伽</th>\n",
       "      <th>肌力訓練</th>\n",
       "      <th>燃脂</th>\n",
       "      <th>減脂瘦身</th>\n",
       "      <th>增加肌肉</th>\n",
       "      <th>增強體魄</th>\n",
       "      <th>舒緩壓力</th>\n",
       "      <th>推薦類型</th>\n",
       "    </tr>\n",
       "  </thead>\n",
       "  <tbody>\n",
       "    <tr>\n",
       "      <th>0</th>\n",
       "      <td>1.0</td>\n",
       "      <td>47.000000</td>\n",
       "      <td>22.521372</td>\n",
       "      <td>0.0</td>\n",
       "      <td>0.0</td>\n",
       "      <td>1.0</td>\n",
       "      <td>1.0</td>\n",
       "      <td>1.0</td>\n",
       "      <td>1.0</td>\n",
       "      <td>0.0</td>\n",
       "      <td>1.0</td>\n",
       "      <td>1.0</td>\n",
       "      <td>1.0</td>\n",
       "      <td>1.0</td>\n",
       "      <td>1.0</td>\n",
       "      <td>0</td>\n",
       "    </tr>\n",
       "    <tr>\n",
       "      <th>1</th>\n",
       "      <td>1.0</td>\n",
       "      <td>46.000000</td>\n",
       "      <td>23.161083</td>\n",
       "      <td>1.0</td>\n",
       "      <td>1.0</td>\n",
       "      <td>1.0</td>\n",
       "      <td>0.0</td>\n",
       "      <td>1.0</td>\n",
       "      <td>0.0</td>\n",
       "      <td>1.0</td>\n",
       "      <td>1.0</td>\n",
       "      <td>0.0</td>\n",
       "      <td>1.0</td>\n",
       "      <td>0.0</td>\n",
       "      <td>1.0</td>\n",
       "      <td>0</td>\n",
       "    </tr>\n",
       "    <tr>\n",
       "      <th>2</th>\n",
       "      <td>1.0</td>\n",
       "      <td>48.000000</td>\n",
       "      <td>23.223720</td>\n",
       "      <td>0.0</td>\n",
       "      <td>1.0</td>\n",
       "      <td>1.0</td>\n",
       "      <td>1.0</td>\n",
       "      <td>1.0</td>\n",
       "      <td>1.0</td>\n",
       "      <td>1.0</td>\n",
       "      <td>1.0</td>\n",
       "      <td>0.0</td>\n",
       "      <td>1.0</td>\n",
       "      <td>1.0</td>\n",
       "      <td>1.0</td>\n",
       "      <td>0</td>\n",
       "    </tr>\n",
       "    <tr>\n",
       "      <th>3</th>\n",
       "      <td>1.0</td>\n",
       "      <td>46.000000</td>\n",
       "      <td>23.626036</td>\n",
       "      <td>0.0</td>\n",
       "      <td>1.0</td>\n",
       "      <td>1.0</td>\n",
       "      <td>1.0</td>\n",
       "      <td>0.0</td>\n",
       "      <td>1.0</td>\n",
       "      <td>1.0</td>\n",
       "      <td>0.0</td>\n",
       "      <td>0.0</td>\n",
       "      <td>1.0</td>\n",
       "      <td>1.0</td>\n",
       "      <td>1.0</td>\n",
       "      <td>0</td>\n",
       "    </tr>\n",
       "    <tr>\n",
       "      <th>4</th>\n",
       "      <td>1.0</td>\n",
       "      <td>47.000000</td>\n",
       "      <td>22.491349</td>\n",
       "      <td>0.0</td>\n",
       "      <td>0.0</td>\n",
       "      <td>1.0</td>\n",
       "      <td>1.0</td>\n",
       "      <td>1.0</td>\n",
       "      <td>1.0</td>\n",
       "      <td>0.0</td>\n",
       "      <td>1.0</td>\n",
       "      <td>1.0</td>\n",
       "      <td>1.0</td>\n",
       "      <td>1.0</td>\n",
       "      <td>1.0</td>\n",
       "      <td>0</td>\n",
       "    </tr>\n",
       "    <tr>\n",
       "      <th>...</th>\n",
       "      <td>...</td>\n",
       "      <td>...</td>\n",
       "      <td>...</td>\n",
       "      <td>...</td>\n",
       "      <td>...</td>\n",
       "      <td>...</td>\n",
       "      <td>...</td>\n",
       "      <td>...</td>\n",
       "      <td>...</td>\n",
       "      <td>...</td>\n",
       "      <td>...</td>\n",
       "      <td>...</td>\n",
       "      <td>...</td>\n",
       "      <td>...</td>\n",
       "      <td>...</td>\n",
       "      <td>...</td>\n",
       "    </tr>\n",
       "    <tr>\n",
       "      <th>2964</th>\n",
       "      <td>0.0</td>\n",
       "      <td>24.000000</td>\n",
       "      <td>16.777174</td>\n",
       "      <td>0.0</td>\n",
       "      <td>1.0</td>\n",
       "      <td>0.0</td>\n",
       "      <td>0.0</td>\n",
       "      <td>1.0</td>\n",
       "      <td>1.0</td>\n",
       "      <td>1.0</td>\n",
       "      <td>1.0</td>\n",
       "      <td>0.0</td>\n",
       "      <td>1.0</td>\n",
       "      <td>0.0</td>\n",
       "      <td>0.0</td>\n",
       "      <td>3</td>\n",
       "    </tr>\n",
       "    <tr>\n",
       "      <th>2965</th>\n",
       "      <td>0.0</td>\n",
       "      <td>27.000000</td>\n",
       "      <td>15.122466</td>\n",
       "      <td>1.0</td>\n",
       "      <td>0.0</td>\n",
       "      <td>0.0</td>\n",
       "      <td>0.0</td>\n",
       "      <td>1.0</td>\n",
       "      <td>1.0</td>\n",
       "      <td>1.0</td>\n",
       "      <td>0.0</td>\n",
       "      <td>0.0</td>\n",
       "      <td>1.0</td>\n",
       "      <td>1.0</td>\n",
       "      <td>0.0</td>\n",
       "      <td>3</td>\n",
       "    </tr>\n",
       "    <tr>\n",
       "      <th>2967</th>\n",
       "      <td>0.0</td>\n",
       "      <td>29.000000</td>\n",
       "      <td>15.413830</td>\n",
       "      <td>0.0</td>\n",
       "      <td>1.0</td>\n",
       "      <td>0.0</td>\n",
       "      <td>0.0</td>\n",
       "      <td>1.0</td>\n",
       "      <td>0.0</td>\n",
       "      <td>1.0</td>\n",
       "      <td>1.0</td>\n",
       "      <td>0.0</td>\n",
       "      <td>1.0</td>\n",
       "      <td>1.0</td>\n",
       "      <td>0.0</td>\n",
       "      <td>3</td>\n",
       "    </tr>\n",
       "    <tr>\n",
       "      <th>2970</th>\n",
       "      <td>1.0</td>\n",
       "      <td>22.613553</td>\n",
       "      <td>23.841476</td>\n",
       "      <td>1.0</td>\n",
       "      <td>1.0</td>\n",
       "      <td>1.0</td>\n",
       "      <td>1.0</td>\n",
       "      <td>0.0</td>\n",
       "      <td>1.0</td>\n",
       "      <td>1.0</td>\n",
       "      <td>1.0</td>\n",
       "      <td>0.0</td>\n",
       "      <td>0.0</td>\n",
       "      <td>1.0</td>\n",
       "      <td>1.0</td>\n",
       "      <td>3</td>\n",
       "    </tr>\n",
       "    <tr>\n",
       "      <th>2972</th>\n",
       "      <td>1.0</td>\n",
       "      <td>23.000000</td>\n",
       "      <td>23.889939</td>\n",
       "      <td>1.0</td>\n",
       "      <td>1.0</td>\n",
       "      <td>1.0</td>\n",
       "      <td>1.0</td>\n",
       "      <td>1.0</td>\n",
       "      <td>1.0</td>\n",
       "      <td>1.0</td>\n",
       "      <td>0.0</td>\n",
       "      <td>0.0</td>\n",
       "      <td>0.0</td>\n",
       "      <td>0.0</td>\n",
       "      <td>1.0</td>\n",
       "      <td>3</td>\n",
       "    </tr>\n",
       "  </tbody>\n",
       "</table>\n",
       "<p>2421 rows × 16 columns</p>\n",
       "</div>"
      ],
      "text/plain": [
       "       性別         年齡        BMI   拳擊   器材   有氧   舞蹈  高強度間歇   瑜伽  肌力訓練   燃脂  \\\n",
       "0     1.0  47.000000  22.521372  0.0  0.0  1.0  1.0    1.0  1.0   0.0  1.0   \n",
       "1     1.0  46.000000  23.161083  1.0  1.0  1.0  0.0    1.0  0.0   1.0  1.0   \n",
       "2     1.0  48.000000  23.223720  0.0  1.0  1.0  1.0    1.0  1.0   1.0  1.0   \n",
       "3     1.0  46.000000  23.626036  0.0  1.0  1.0  1.0    0.0  1.0   1.0  0.0   \n",
       "4     1.0  47.000000  22.491349  0.0  0.0  1.0  1.0    1.0  1.0   0.0  1.0   \n",
       "...   ...        ...        ...  ...  ...  ...  ...    ...  ...   ...  ...   \n",
       "2964  0.0  24.000000  16.777174  0.0  1.0  0.0  0.0    1.0  1.0   1.0  1.0   \n",
       "2965  0.0  27.000000  15.122466  1.0  0.0  0.0  0.0    1.0  1.0   1.0  0.0   \n",
       "2967  0.0  29.000000  15.413830  0.0  1.0  0.0  0.0    1.0  0.0   1.0  1.0   \n",
       "2970  1.0  22.613553  23.841476  1.0  1.0  1.0  1.0    0.0  1.0   1.0  1.0   \n",
       "2972  1.0  23.000000  23.889939  1.0  1.0  1.0  1.0    1.0  1.0   1.0  0.0   \n",
       "\n",
       "      減脂瘦身  增加肌肉  增強體魄  舒緩壓力  推薦類型  \n",
       "0      1.0   1.0   1.0   1.0     0  \n",
       "1      0.0   1.0   0.0   1.0     0  \n",
       "2      0.0   1.0   1.0   1.0     0  \n",
       "3      0.0   1.0   1.0   1.0     0  \n",
       "4      1.0   1.0   1.0   1.0     0  \n",
       "...    ...   ...   ...   ...   ...  \n",
       "2964   0.0   1.0   0.0   0.0     3  \n",
       "2965   0.0   1.0   1.0   0.0     3  \n",
       "2967   0.0   1.0   1.0   0.0     3  \n",
       "2970   0.0   0.0   1.0   1.0     3  \n",
       "2972   0.0   0.0   0.0   1.0     3  \n",
       "\n",
       "[2421 rows x 16 columns]"
      ]
     },
     "execution_count": 21,
     "metadata": {},
     "output_type": "execute_result"
    }
   ],
   "source": [
    "train"
   ]
  },
  {
   "cell_type": "code",
   "execution_count": 22,
   "id": "db2afcdb-fd24-40a9-b9f0-21120b728130",
   "metadata": {},
   "outputs": [
    {
     "data": {
      "text/plain": [
       "<AxesSubplot:>"
      ]
     },
     "execution_count": 22,
     "metadata": {},
     "output_type": "execute_result"
    },
    {
     "data": {
      "image/png": "[encoded data removed]",
      "text/plain": [
       "<Figure size 432x288 with 1 Axes>"
      ]
     },
     "metadata": {
      "needs_background": "light"
     },
     "output_type": "display_data"
    }
   ],
   "source": [
    "train[\"推薦類型\"].hist()"
   ]
  },
  {
   "cell_type": "code",
   "execution_count": 23,
   "id": "bdc1d820-58af-452b-b9c7-5a7d28e570dd",
   "metadata": {},
   "outputs": [],
   "source": [
    "y_s= train[\"推薦類型\"]\n",
    "X_s = train.drop([\"推薦類型\"],axis = 1)"
   ]
  },
  {
   "cell_type": "code",
   "execution_count": 24,
   "id": "98b2416a-4657-4362-bff4-8e1797870d04",
   "metadata": {},
   "outputs": [],
   "source": [
    "X_s, y_s = TomekLinks().fit_resample(X_s, y_s)\n",
    "X_s, y_s = SMOTE(random_state = 0).fit_resample(X_s,y_s)"
   ]
  },
  {
   "cell_type": "code",
   "execution_count": 25,
   "id": "bbf5531a-a008-4f21-92ff-55ad9ca24000",
   "metadata": {},
   "outputs": [],
   "source": [
    "X_train, X_val, y_train, y_val = train_test_split(\n",
    "   X_s, y_s, test_size=0.33, random_state=42)"
   ]
  },
  {
   "cell_type": "code",
   "execution_count": 38,
   "id": "756d669f-5f2c-4dcf-8ada-c510bb488000",
   "metadata": {},
   "outputs": [
    {
     "data": {
      "text/plain": [
       "0.8991769547325102"
      ]
     },
     "execution_count": 38,
     "metadata": {},
     "output_type": "execute_result"
    }
   ],
   "source": [
    "randomForestModel = RandomForestClassifier(random_state = 42, n_estimators= 500)\n",
    "randomForestModel.fit(X_train,y_train)\n",
    "randomForestModel.score(X_val,y_val)"
   ]
  },
  {
   "cell_type": "code",
   "execution_count": 39,
   "id": "98209dd3-bbf7-45ad-bced-07b6c6d304cd",
   "metadata": {},
   "outputs": [],
   "source": [
    "randomForestModel.fit(X_s,y_s)\n",
    "y_pred = randomForestModel.predict(test)\n",
    "y_pred_pd = pd.DataFrame(data = y_pred, columns = [\"label\"])\n",
    "y_pred_pd = y_pred_pd.astype('int64').reset_index()\n",
    "y_pred_pd\n",
    "y_pred_pd.to_csv(\"e94084032.csv\", index = False)"
   ]
  },
  {
   "cell_type": "code",
   "execution_count": null,
   "id": "4f072a8a-7632-431b-bc1e-c2e340c58a32",
   "metadata": {},
   "outputs": [],
   "source": []
  }
 ],
 "metadata": {
  "kernelspec": {
   "display_name": "Python 3 (ipykernel)",
   "language": "python",
   "name": "python3"
  },
  "language_info": {
   "codemirror_mode": {
    "name": "ipython",
    "version": 3
   },
   "file_extension": ".py",
   "mimetype": "text/x-python",
   "name": "python",
   "nbconvert_exporter": "python",
   "pygments_lexer": "ipython3",
   "version": "3.9.13"
  }
 },
 "nbformat": 4,
 "nbformat_minor": 5
}
