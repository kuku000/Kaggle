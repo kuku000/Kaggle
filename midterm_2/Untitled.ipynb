{
 "cells": [
  {
   "cell_type": "code",
   "execution_count": 1,
   "id": "a826b0e8-7e18-4f7b-8dae-1df80752cc6d",
   "metadata": {},
   "outputs": [],
   "source": [
    "import pandas as pd\n",
    "import numpy as np\n",
    "import matplotlib.pyplot as plt\n",
    "from xgboost import XGBClassifier\n",
    "from sklearn.model_selection import cross_val_score\n",
    "import xgboost as xgb\n",
    "from sklearn.model_selection import train_test_split,GridSearchCV"
   ]
  },
  {
   "cell_type": "code",
   "execution_count": 2,
   "id": "6ccd05b0-509c-4a4f-93c9-7d2276361e42",
   "metadata": {},
   "outputs": [],
   "source": [
    "train = pd.read_csv(\"train.csv\")\n",
    "test = pd.read_csv(\"test.csv\")\n",
    "sS = pd.read_csv(\"sampleSubmission.csv\")"
   ]
  },
  {
   "cell_type": "code",
   "execution_count": 3,
   "id": "dc667753-1f21-43ef-9116-b552a3898a7b",
   "metadata": {},
   "outputs": [],
   "source": [
    "select_label = [0, 1, 2, 3]\n",
    "select_habits = [0., 1.]"
   ]
  },
  {
   "cell_type": "code",
   "execution_count": 4,
   "id": "e471fd49-a140-45d4-801a-1a1999155c1d",
   "metadata": {},
   "outputs": [],
   "source": [
    "train['推薦類型'].replace(['肌力',\"柔軟度\",\"心肺\",\"肌耐力\"],[0,1,2,3] , inplace = True)"
   ]
  },
  {
   "cell_type": "code",
   "execution_count": 5,
   "id": "00bda481-4199-4aad-a97e-c21ac2ac3a45",
   "metadata": {},
   "outputs": [],
   "source": [
    "train = train[train['推薦類型'].isin(select_label)]"
   ]
  },
  {
   "cell_type": "code",
   "execution_count": 6,
   "id": "69ac2535-542a-4d03-aca6-de42baf6f277",
   "metadata": {},
   "outputs": [],
   "source": [
    "train = train[train['拳擊'].isin(select_habits)]\n",
    "train = train[train['器材'].isin(select_habits)]\n",
    "train = train[train['有氧'].isin(select_habits)]\n",
    "train = train[train['舞蹈'].isin(select_habits)]\n",
    "train = train[train['高強度間歇'].isin(select_habits)]\n",
    "train = train[train['瑜伽'].isin(select_habits)]\n",
    "train = train[train['肌力訓練'].isin(select_habits)]\n",
    "train = train[train['燃脂'].isin(select_habits)]\n",
    "train = train[train['減脂瘦身'].isin(select_habits)]\n",
    "train = train[train['增加肌肉'].isin(select_habits)]\n",
    "train = train[train['增強體魄'].isin(select_habits)]\n",
    "train = train[train['舒緩壓力'].isin(select_habits)]"
   ]
  },
  {
   "cell_type": "code",
   "execution_count": 7,
   "id": "aeeb37fd-7a98-4f5d-80d7-f97454ffd998",
   "metadata": {},
   "outputs": [],
   "source": [
    "train = train[train['年齡']<70]"
   ]
  },
  {
   "cell_type": "code",
   "execution_count": 8,
   "id": "385ee86e-7810-4cae-9081-195419f7cc64",
   "metadata": {},
   "outputs": [],
   "source": [
    "train = train[train['BMI']> 15]"
   ]
  },
  {
   "cell_type": "code",
   "execution_count": 9,
   "id": "094cc06e-46e6-4453-a971-4440e608eac7",
   "metadata": {},
   "outputs": [
    {
     "data": {
      "text/plain": [
       "22.491349    307\n",
       "19.879103    127\n",
       "23.875115     80\n",
       "18.818924     71\n",
       "16.358025     63\n",
       "            ... \n",
       "20.693056      1\n",
       "22.852056      1\n",
       "23.143572      1\n",
       "17.088284      1\n",
       "22.157158      1\n",
       "Name: BMI, Length: 2397, dtype: int64"
      ]
     },
     "execution_count": 9,
     "metadata": {},
     "output_type": "execute_result"
    }
   ],
   "source": [
    "train[\"BMI\"].value_counts()"
   ]
  },
  {
   "cell_type": "code",
   "execution_count": 10,
   "id": "2b866095-0ea0-4367-bf6f-03b7f35bab26",
   "metadata": {},
   "outputs": [
    {
     "data": {
      "text/plain": [
       "46.0    352\n",
       "47.0    294\n",
       "45.0    166\n",
       "27.0    159\n",
       "48.0    146\n",
       "44.0    142\n",
       "33.0    142\n",
       "31.0    121\n",
       "42.0    104\n",
       "43.0     95\n",
       "38.0     95\n",
       "30.0     87\n",
       "41.0     84\n",
       "36.0     81\n",
       "37.0     80\n",
       "34.0     80\n",
       "29.0     79\n",
       "35.0     77\n",
       "28.0     76\n",
       "26.0     73\n",
       "40.0     69\n",
       "39.0     68\n",
       "50.0     63\n",
       "32.0     61\n",
       "23.0     60\n",
       "24.0     56\n",
       "22.0     49\n",
       "49.0     47\n",
       "25.0     40\n",
       "16.0     19\n",
       "19.0     17\n",
       "56.0     16\n",
       "61.0     15\n",
       "13.0     14\n",
       "18.0     14\n",
       "15.0     11\n",
       "20.0     11\n",
       "54.0     11\n",
       "53.0     11\n",
       "51.0     11\n",
       "52.0     10\n",
       "55.0      9\n",
       "21.0      9\n",
       "58.0      8\n",
       "17.0      8\n",
       "14.0      7\n",
       "57.0      7\n",
       "11.0      7\n",
       "12.0      7\n",
       "62.0      5\n",
       "64.0      4\n",
       "60.0      4\n",
       "59.0      4\n",
       "63.0      1\n",
       "65.0      1\n",
       "Name: 年齡, dtype: int64"
      ]
     },
     "execution_count": 10,
     "metadata": {},
     "output_type": "execute_result"
    }
   ],
   "source": [
    "train[\"年齡\"].value_counts()"
   ]
  },
  {
   "cell_type": "code",
   "execution_count": 11,
   "id": "633a65ce-096e-408c-b826-4349bf579e37",
   "metadata": {},
   "outputs": [
    {
     "name": "stdout",
     "output_type": "stream",
     "text": [
      "<class 'pandas.core.frame.DataFrame'>\n",
      "Int64Index: 3287 entries, 5 to 26416\n",
      "Data columns (total 16 columns):\n",
      " #   Column  Non-Null Count  Dtype  \n",
      "---  ------  --------------  -----  \n",
      " 0   性別      3287 non-null   float64\n",
      " 1   年齡      3287 non-null   float64\n",
      " 2   BMI     3287 non-null   float64\n",
      " 3   拳擊      3287 non-null   float64\n",
      " 4   器材      3287 non-null   float64\n",
      " 5   有氧      3287 non-null   float64\n",
      " 6   舞蹈      3287 non-null   float64\n",
      " 7   高強度間歇   3287 non-null   float64\n",
      " 8   瑜伽      3287 non-null   float64\n",
      " 9   肌力訓練    3287 non-null   float64\n",
      " 10  燃脂      3287 non-null   float64\n",
      " 11  減脂瘦身    3287 non-null   float64\n",
      " 12  增加肌肉    3287 non-null   float64\n",
      " 13  增強體魄    3287 non-null   float64\n",
      " 14  舒緩壓力    3287 non-null   float64\n",
      " 15  推薦類型    3287 non-null   object \n",
      "dtypes: float64(15), object(1)\n",
      "memory usage: 436.6+ KB\n"
     ]
    }
   ],
   "source": [
    "train.info()"
   ]
  },
  {
   "cell_type": "code",
   "execution_count": 12,
   "id": "f0422552-8a72-4d6c-987e-449cc3ed1b57",
   "metadata": {},
   "outputs": [],
   "source": [
    "train['推薦類型'] = train['推薦類型'].astype(\"int64\")"
   ]
  },
  {
   "cell_type": "code",
   "execution_count": 13,
   "id": "91cf23f6-0acb-453a-bc51-0e2949259b87",
   "metadata": {},
   "outputs": [
    {
     "name": "stdout",
     "output_type": "stream",
     "text": [
      "<class 'pandas.core.frame.DataFrame'>\n",
      "Int64Index: 3287 entries, 5 to 26416\n",
      "Data columns (total 16 columns):\n",
      " #   Column  Non-Null Count  Dtype  \n",
      "---  ------  --------------  -----  \n",
      " 0   性別      3287 non-null   float64\n",
      " 1   年齡      3287 non-null   float64\n",
      " 2   BMI     3287 non-null   float64\n",
      " 3   拳擊      3287 non-null   float64\n",
      " 4   器材      3287 non-null   float64\n",
      " 5   有氧      3287 non-null   float64\n",
      " 6   舞蹈      3287 non-null   float64\n",
      " 7   高強度間歇   3287 non-null   float64\n",
      " 8   瑜伽      3287 non-null   float64\n",
      " 9   肌力訓練    3287 non-null   float64\n",
      " 10  燃脂      3287 non-null   float64\n",
      " 11  減脂瘦身    3287 non-null   float64\n",
      " 12  增加肌肉    3287 non-null   float64\n",
      " 13  增強體魄    3287 non-null   float64\n",
      " 14  舒緩壓力    3287 non-null   float64\n",
      " 15  推薦類型    3287 non-null   int64  \n",
      "dtypes: float64(15), int64(1)\n",
      "memory usage: 436.6 KB\n"
     ]
    }
   ],
   "source": [
    "train.info()"
   ]
  },
  {
   "cell_type": "code",
   "execution_count": 14,
   "id": "72188be1-c1f8-42ab-926b-705c16c100b6",
   "metadata": {},
   "outputs": [],
   "source": [
    "X = train.drop([\"推薦類型\"], axis =1)\n",
    "y = train[\"推薦類型\"]"
   ]
  },
  {
   "cell_type": "code",
   "execution_count": 15,
   "id": "f76c8baa-8de5-4bf1-82e4-9d6d5d419d4a",
   "metadata": {},
   "outputs": [
    {
     "data": {
      "text/plain": [
       "<AxesSubplot:>"
      ]
     },
     "execution_count": 15,
     "metadata": {},
     "output_type": "execute_result"
    },
    {
     "data": {
      "image/png": "[encoded data removed]",
      "text/plain": [
       "<Figure size 432x288 with 1 Axes>"
      ]
     },
     "metadata": {
      "needs_background": "light"
     },
     "output_type": "display_data"
    }
   ],
   "source": [
    "from imblearn.over_sampling import SMOTE\n",
    "X, y = SMOTE().fit_resample(X,y)\n",
    "y.hist()"
   ]
  },
  {
   "cell_type": "code",
   "execution_count": 16,
   "id": "38166d63-b55f-441b-99af-830dac246d62",
   "metadata": {},
   "outputs": [],
   "source": [
    "from sklearn.preprocessing import MinMaxScaler\n",
    "\n",
    "scaler = MinMaxScaler(feature_range=(0, 1)).fit(X)\n",
    "X_scaled = scaler.transform(X)"
   ]
  },
  {
   "cell_type": "code",
   "execution_count": 19,
   "id": "598e7752-f6b4-4792-b4f6-f4fb286dab74",
   "metadata": {},
   "outputs": [],
   "source": [
    "from xgboost import XGBClassifier\n",
    "from sklearn.model_selection import cross_val_score\n",
    "import xgboost as xgb\n",
    "from sklearn.model_selection import train_test_split,GridSearchCV\n",
    "X_train, X_val, y_train, y_val = train_test_split(\n",
    "   X_scaled, y, test_size=0.33, random_state=42)"
   ]
  },
  {
   "cell_type": "code",
   "execution_count": 20,
   "id": "737f5c67-9017-4b4c-96cc-d09e6ac65e39",
   "metadata": {},
   "outputs": [],
   "source": [
    "from sklearn.ensemble import RandomForestClassifier"
   ]
  },
  {
   "cell_type": "code",
   "execution_count": 21,
   "id": "2489333a-6dee-4117-9cb9-250c830105ca",
   "metadata": {},
   "outputs": [
    {
     "name": "stderr",
     "output_type": "stream",
     "text": [
      "C:\\Users\\KYLE\\anaconda3\\lib\\site-packages\\xgboost\\sklearn.py:1224: UserWarning: The use of label encoder in XGBClassifier is deprecated and will be removed in a future release. To remove this warning, do the following: 1) Pass option use_label_encoder=False when constructing XGBClassifier object; and 2) Encode your labels (y) as integers starting with 0, i.e. 0, 1, 2, ..., [num_class - 1].\n",
      "  warnings.warn(label_encoder_deprecation_msg, UserWarning)\n"
     ]
    },
    {
     "name": "stdout",
     "output_type": "stream",
     "text": [
      "[19:53:48] WARNING: C:\\Windows\\Temp\\abs_557yfx631l\\croots\\recipe\\xgboost-split_1659548953302\\work\\src\\learner.cc:1115: Starting in XGBoost 1.3.0, the default evaluation metric used with the objective 'multi:softprob' was changed from 'merror' to 'mlogloss'. Explicitly set eval_metric if you'd like to restore the old behavior.\n"
     ]
    },
    {
     "name": "stderr",
     "output_type": "stream",
     "text": [
      "C:\\Users\\KYLE\\anaconda3\\lib\\site-packages\\xgboost\\sklearn.py:1224: UserWarning: The use of label encoder in XGBClassifier is deprecated and will be removed in a future release. To remove this warning, do the following: 1) Pass option use_label_encoder=False when constructing XGBClassifier object; and 2) Encode your labels (y) as integers starting with 0, i.e. 0, 1, 2, ..., [num_class - 1].\n",
      "  warnings.warn(label_encoder_deprecation_msg, UserWarning)\n"
     ]
    },
    {
     "name": "stdout",
     "output_type": "stream",
     "text": [
      "[19:53:52] WARNING: C:\\Windows\\Temp\\abs_557yfx631l\\croots\\recipe\\xgboost-split_1659548953302\\work\\src\\learner.cc:1115: Starting in XGBoost 1.3.0, the default evaluation metric used with the objective 'multi:softprob' was changed from 'merror' to 'mlogloss'. Explicitly set eval_metric if you'd like to restore the old behavior.\n",
      "XGBClassifier 0.8558014755197854\n",
      "RandomForestClassifier 0.8537894030851777\n",
      "[19:53:56] WARNING: C:\\Windows\\Temp\\abs_557yfx631l\\croots\\recipe\\xgboost-split_1659548953302\\work\\src\\learner.cc:1115: Starting in XGBoost 1.3.0, the default evaluation metric used with the objective 'multi:softprob' was changed from 'merror' to 'mlogloss'. Explicitly set eval_metric if you'd like to restore the old behavior.\n"
     ]
    },
    {
     "name": "stderr",
     "output_type": "stream",
     "text": [
      "C:\\Users\\KYLE\\anaconda3\\lib\\site-packages\\xgboost\\sklearn.py:1224: UserWarning: The use of label encoder in XGBClassifier is deprecated and will be removed in a future release. To remove this warning, do the following: 1) Pass option use_label_encoder=False when constructing XGBClassifier object; and 2) Encode your labels (y) as integers starting with 0, i.e. 0, 1, 2, ..., [num_class - 1].\n",
      "  warnings.warn(label_encoder_deprecation_msg, UserWarning)\n"
     ]
    },
    {
     "name": "stdout",
     "output_type": "stream",
     "text": [
      "VotingClassifier 0.8544600938967136\n"
     ]
    }
   ],
   "source": [
    "from sklearn.ensemble import VotingClassifier\n",
    "from sklearn.svm import SVC\n",
    "\n",
    "\n",
    "def accuracy_score(y_val,y_pred):\n",
    "    Sum = 0\n",
    "    y_val = y_val.tolist()\n",
    "    y_pred = y_pred.tolist()\n",
    "    for i in range(len(y_pred)):\n",
    "        if y_val[i] == y_pred[i]:\n",
    "            Sum+=1\n",
    "    score = Sum/len(y_pred)\n",
    "    \n",
    "    return score\n",
    "\n",
    "\n",
    "rnd_clf = RandomForestClassifier(random_state=0,n_estimators=200,max_features = 15)\n",
    "xgb_clf =  XGBClassifier(random_state=0, n_estimators=400, max_depth = 8,learning_rate =0.1)\n",
    "\n",
    "voting_clf = VotingClassifier(estimators=[('xg', xgb_clf), ('rf', rnd_clf)],voting='hard')\n",
    "voting_clf.fit(X_train, y_train)\n",
    "for clf in (xgb_clf, rnd_clf,voting_clf):\n",
    "    clf.fit(X_train, y_train)\n",
    "    y_pred = clf.predict(X_val)\n",
    "    print(clf.__class__.__name__, accuracy_score(y_val, y_pred))"
   ]
  },
  {
   "cell_type": "code",
   "execution_count": 22,
   "id": "8190749f-eda3-4d48-be81-9aa991b804e7",
   "metadata": {},
   "outputs": [
    {
     "name": "stderr",
     "output_type": "stream",
     "text": [
      "C:\\Users\\KYLE\\anaconda3\\lib\\site-packages\\xgboost\\sklearn.py:1224: UserWarning: The use of label encoder in XGBClassifier is deprecated and will be removed in a future release. To remove this warning, do the following: 1) Pass option use_label_encoder=False when constructing XGBClassifier object; and 2) Encode your labels (y) as integers starting with 0, i.e. 0, 1, 2, ..., [num_class - 1].\n",
      "  warnings.warn(label_encoder_deprecation_msg, UserWarning)\n"
     ]
    },
    {
     "name": "stdout",
     "output_type": "stream",
     "text": [
      "[19:54:15] WARNING: C:\\Windows\\Temp\\abs_557yfx631l\\croots\\recipe\\xgboost-split_1659548953302\\work\\src\\learner.cc:1115: Starting in XGBoost 1.3.0, the default evaluation metric used with the objective 'multi:softprob' was changed from 'merror' to 'mlogloss'. Explicitly set eval_metric if you'd like to restore the old behavior.\n"
     ]
    }
   ],
   "source": [
    "voting_clf.fit(X_scaled,y)\n",
    "scaler = MinMaxScaler(feature_range=(0, 1)).fit(test)\n",
    "test_scaled = scaler.transform(test)\n",
    "\n",
    "y_pred = voting_clf.predict(test_scaled)\n",
    "y_pred_pd = pd.DataFrame(data = y_pred, columns = [\"label\"])\n",
    "y_pred_pd = y_pred_pd.astype('int64').reset_index()\n",
    "y_pred_pd\n",
    "y_pred_pd.to_csv(\"e94084032.csv\", index = False)"
   ]
  },
  {
   "cell_type": "code",
   "execution_count": 53,
   "id": "77b73d27-5ba5-4299-8321-218d94566792",
   "metadata": {},
   "outputs": [
    {
     "name": "stdout",
     "output_type": "stream",
     "text": [
      "0.9626446280991735\n"
     ]
    },
    {
     "name": "stderr",
     "output_type": "stream",
     "text": [
      "C:\\Users\\KYLE\\anaconda3\\lib\\site-packages\\sklearn\\svm\\_base.py:301: ConvergenceWarning: Solver terminated early (max_iter=10000).  Consider pre-processing your data with StandardScaler or MinMaxScaler.\n",
      "  warnings.warn(\n"
     ]
    },
    {
     "data": {
      "text/plain": [
       "0.823608316566063"
      ]
     },
     "execution_count": 53,
     "metadata": {},
     "output_type": "execute_result"
    }
   ],
   "source": []
  },
  {
   "cell_type": "code",
   "execution_count": 54,
   "id": "5ace1a44-6c5b-46a0-b291-ef6baf5e384c",
   "metadata": {},
   "outputs": [],
   "source": [
    "#tuned_parameters = {'kernel': ['poly'], 'gamma': [0.5,1,2,10],'C': [1, 10, 100]}\n",
    "                  "
   ]
  },
  {
   "cell_type": "code",
   "execution_count": null,
   "id": "1c773b16-7849-4699-a77e-4f5b22b27eb3",
   "metadata": {},
   "outputs": [],
   "source": []
  },
  {
   "cell_type": "code",
   "execution_count": 55,
   "id": "d1e74021-c0df-4108-8103-61091a58ad48",
   "metadata": {},
   "outputs": [],
   "source": []
  },
  {
   "cell_type": "code",
   "execution_count": 56,
   "id": "4d922dd9-4f7f-4508-b0c4-10f609846900",
   "metadata": {},
   "outputs": [
    {
     "name": "stdout",
     "output_type": "stream",
     "text": [
      "accuracy score 0.8551307847082495\n",
      "The best model param : {'max_depth': 15, 'max_features': 6, 'n_estimators': 200}\n"
     ]
    }
   ],
   "source": []
  },
  {
   "cell_type": "code",
   "execution_count": null,
   "id": "3f7ca800-afa4-476c-b15e-2fc5e05b6b94",
   "metadata": {},
   "outputs": [],
   "source": []
  },
  {
   "cell_type": "code",
   "execution_count": null,
   "id": "37e7e761-9209-423e-a2bf-7838ced0b15a",
   "metadata": {},
   "outputs": [],
   "source": []
  }
 ],
 "metadata": {
  "kernelspec": {
   "display_name": "Python 3 (ipykernel)",
   "language": "python",
   "name": "python3"
  },
  "language_info": {
   "codemirror_mode": {
    "name": "ipython",
    "version": 3
   },
   "file_extension": ".py",
   "mimetype": "text/x-python",
   "name": "python",
   "nbconvert_exporter": "python",
   "pygments_lexer": "ipython3",
   "version": "3.9.13"
  }
 },
 "nbformat": 4,
 "nbformat_minor": 5
}
